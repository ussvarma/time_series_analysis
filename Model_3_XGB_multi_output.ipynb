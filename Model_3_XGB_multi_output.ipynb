{
  "nbformat": 4,
  "nbformat_minor": 0,
  "metadata": {
    "colab": {
      "provenance": [],
      "collapsed_sections": [
        "Y77arujEIrZd",
        "SftP6HJoaUyU"
      ],
      "authorship_tag": "ABX9TyOA6DhcO39iKoAHKrFkkb9U",
      "include_colab_link": true
    },
    "kernelspec": {
      "name": "python3",
      "display_name": "Python 3"
    },
    "language_info": {
      "name": "python"
    }
  },
  "cells": [
    {
      "cell_type": "markdown",
      "metadata": {
        "id": "view-in-github",
        "colab_type": "text"
      },
      "source": [
        "<a href=\"https://colab.research.google.com/github/ussvarma/time_series_analysis/blob/main/Model_3_XGB_multi_output.ipynb\" target=\"_parent\"><img src=\"https://colab.research.google.com/assets/colab-badge.svg\" alt=\"Open In Colab\"/></a>"
      ]
    },
    {
      "cell_type": "markdown",
      "source": [
        "# Problem statement:\n",
        "Title - Forecast next 12 month spend based on past spend data\n",
        "\n",
        "You need to create a system to forecast the spend of a company based on the past historical data of the last 24 months on a monthly scale.\n",
        "\n",
        "First you need to identify the various spends a company does, you can take an example of any base company and identify the various spends a company does in a complete year, and create some fictional spend numbers of that company as training data.\n",
        "\n",
        "After that you need to identify various features you will consider to train your model, to predict or forecast the spending company would do in the next 12 months.\n",
        "\n",
        "You need to think through the approach you will take, the features you will identify and the algorithm you will use to achieve this. For the ML model training you can create fictional data and perform the training."
      ],
      "metadata": {
        "id": "t17MfQw7hOFw"
      }
    },
    {
      "cell_type": "markdown",
      "source": [
        "# XGBoost model for multioutput(12 month)\n"
      ],
      "metadata": {
        "id": "0CPnKBCUoHBV"
      }
    },
    {
      "cell_type": "markdown",
      "source": [
        "## Importing libraries\n"
      ],
      "metadata": {
        "id": "Y77arujEIrZd"
      }
    },
    {
      "cell_type": "code",
      "execution_count": null,
      "metadata": {
        "id": "FyDGLok7oo_L"
      },
      "outputs": [],
      "source": [
        "import numpy as np\n",
        "import pandas as pd\n",
        "from matplotlib import pyplot as plt\n",
        "from tensorflow.keras.models import Sequential\n",
        "from tensorflow.keras.callbacks import EarlyStopping\n",
        "from tensorflow.keras.layers import LSTM,GRU\n",
        "from tensorflow.keras.layers import Dense, Dropout\n",
        "from sklearn.preprocessing import StandardScaler\n",
        "from tensorflow.keras.wrappers.scikit_learn import KerasRegressor\n",
        "from sklearn.multioutput import MultiOutputRegressor\n",
        "from sklearn.model_selection import GridSearchCV\n",
        "import seaborn as sns\n",
        "import xgboost as xgb\n",
        "import warnings\n",
        "warnings.filterwarnings(\"ignore\")"
      ]
    },
    {
      "cell_type": "markdown",
      "source": [
        "## reading dataset \n"
      ],
      "metadata": {
        "id": "SftP6HJoaUyU"
      }
    },
    {
      "cell_type": "code",
      "execution_count": null,
      "metadata": {
        "id": "RZmtN6H2oo_S"
      },
      "outputs": [],
      "source": [
        "df=pd.read_csv(\"expenditure_200.csv\")\n",
        "df[\"Date\"]= pd.to_datetime(df[\"Date\"])"
      ]
    },
    {
      "cell_type": "code",
      "source": [
        "df=df[:-30]\n",
        "df"
      ],
      "metadata": {
        "colab": {
          "base_uri": "https://localhost:8080/",
          "height": 728
        },
        "id": "DDzC5XTxaML-",
        "outputId": "0a7d03a1-dfd2-44f7-f12a-eae75de0a764"
      },
      "execution_count": null,
      "outputs": [
        {
          "output_type": "execute_result",
          "data": {
            "text/plain": [
              "          Date  Company Id  Expenditure(In lakhs)  Profit (In lakhs)  \\\n",
              "0   2005-12-01           1              49.813290            68.6616   \n",
              "1   2006-01-01           1              50.316402            69.7872   \n",
              "2   2006-02-01           1              55.168217            69.7872   \n",
              "3   2006-03-01           1              55.412300            73.1640   \n",
              "4   2006-04-01           1              52.284027            73.1640   \n",
              "..         ...         ...                    ...                ...   \n",
              "166 2019-10-01           1              91.945366           208.2360   \n",
              "167 2019-11-01           1              94.311501           209.3616   \n",
              "168 2019-12-01           1              98.919228           209.3616   \n",
              "169 2020-01-01           1              99.835793           209.3616   \n",
              "170 2020-02-01           1             111.033821           210.4872   \n",
              "\n",
              "     Employee salary and benefits (In lakhs)  liabilities (In lakhs)  \\\n",
              "0                                       4.05                0.056146   \n",
              "1                                       4.05                0.125139   \n",
              "2                                       4.05                0.146133   \n",
              "3                                       4.05                0.150954   \n",
              "4                                       4.05                0.156165   \n",
              "..                                       ...                     ...   \n",
              "166                                     8.10               10.293369   \n",
              "167                                     8.10               10.324048   \n",
              "168                                     8.10               10.333790   \n",
              "169                                     8.10               10.403745   \n",
              "170                                     8.10               10.438723   \n",
              "\n",
              "     R and D expenses (In lakhs)  CSR (In lakhs)  Employees   Location  \\\n",
              "0                         1.0867        0.411013         10     mumbai   \n",
              "1                         1.0867        0.411572         10  bangalore   \n",
              "2                         1.0867        0.413629         10  hyderabad   \n",
              "3                         1.0867        0.414765         10     mumbai   \n",
              "4                         1.0867        0.416054         10  bangalore   \n",
              "..                           ...             ...        ...        ...   \n",
              "166                       6.5202        0.444415         17  bangalore   \n",
              "167                       6.5202        0.445658         17  bangalore   \n",
              "168                       6.5202        0.447926         17  hyderabad   \n",
              "169                       6.5202        0.448354         17  hyderabad   \n",
              "170                       6.5202        0.453074         17     mumbai   \n",
              "\n",
              "     Taxes (In lakhs)  \n",
              "0            5.654493  \n",
              "1            5.841239  \n",
              "2            4.385695  \n",
              "3            5.325510  \n",
              "4            6.263992  \n",
              "..                ...  \n",
              "166         34.887190  \n",
              "167         34.515030  \n",
              "168         33.132712  \n",
              "169         32.857742  \n",
              "170         29.836014  \n",
              "\n",
              "[171 rows x 11 columns]"
            ],
            "text/html": [
              "\n",
              "  <div id=\"df-2af8ddf1-8106-478d-aa78-9252c1899803\">\n",
              "    <div class=\"colab-df-container\">\n",
              "      <div>\n",
              "<style scoped>\n",
              "    .dataframe tbody tr th:only-of-type {\n",
              "        vertical-align: middle;\n",
              "    }\n",
              "\n",
              "    .dataframe tbody tr th {\n",
              "        vertical-align: top;\n",
              "    }\n",
              "\n",
              "    .dataframe thead th {\n",
              "        text-align: right;\n",
              "    }\n",
              "</style>\n",
              "<table border=\"1\" class=\"dataframe\">\n",
              "  <thead>\n",
              "    <tr style=\"text-align: right;\">\n",
              "      <th></th>\n",
              "      <th>Date</th>\n",
              "      <th>Company Id</th>\n",
              "      <th>Expenditure(In lakhs)</th>\n",
              "      <th>Profit (In lakhs)</th>\n",
              "      <th>Employee salary and benefits (In lakhs)</th>\n",
              "      <th>liabilities (In lakhs)</th>\n",
              "      <th>R and D expenses (In lakhs)</th>\n",
              "      <th>CSR (In lakhs)</th>\n",
              "      <th>Employees</th>\n",
              "      <th>Location</th>\n",
              "      <th>Taxes (In lakhs)</th>\n",
              "    </tr>\n",
              "  </thead>\n",
              "  <tbody>\n",
              "    <tr>\n",
              "      <th>0</th>\n",
              "      <td>2005-12-01</td>\n",
              "      <td>1</td>\n",
              "      <td>49.813290</td>\n",
              "      <td>68.6616</td>\n",
              "      <td>4.05</td>\n",
              "      <td>0.056146</td>\n",
              "      <td>1.0867</td>\n",
              "      <td>0.411013</td>\n",
              "      <td>10</td>\n",
              "      <td>mumbai</td>\n",
              "      <td>5.654493</td>\n",
              "    </tr>\n",
              "    <tr>\n",
              "      <th>1</th>\n",
              "      <td>2006-01-01</td>\n",
              "      <td>1</td>\n",
              "      <td>50.316402</td>\n",
              "      <td>69.7872</td>\n",
              "      <td>4.05</td>\n",
              "      <td>0.125139</td>\n",
              "      <td>1.0867</td>\n",
              "      <td>0.411572</td>\n",
              "      <td>10</td>\n",
              "      <td>bangalore</td>\n",
              "      <td>5.841239</td>\n",
              "    </tr>\n",
              "    <tr>\n",
              "      <th>2</th>\n",
              "      <td>2006-02-01</td>\n",
              "      <td>1</td>\n",
              "      <td>55.168217</td>\n",
              "      <td>69.7872</td>\n",
              "      <td>4.05</td>\n",
              "      <td>0.146133</td>\n",
              "      <td>1.0867</td>\n",
              "      <td>0.413629</td>\n",
              "      <td>10</td>\n",
              "      <td>hyderabad</td>\n",
              "      <td>4.385695</td>\n",
              "    </tr>\n",
              "    <tr>\n",
              "      <th>3</th>\n",
              "      <td>2006-03-01</td>\n",
              "      <td>1</td>\n",
              "      <td>55.412300</td>\n",
              "      <td>73.1640</td>\n",
              "      <td>4.05</td>\n",
              "      <td>0.150954</td>\n",
              "      <td>1.0867</td>\n",
              "      <td>0.414765</td>\n",
              "      <td>10</td>\n",
              "      <td>mumbai</td>\n",
              "      <td>5.325510</td>\n",
              "    </tr>\n",
              "    <tr>\n",
              "      <th>4</th>\n",
              "      <td>2006-04-01</td>\n",
              "      <td>1</td>\n",
              "      <td>52.284027</td>\n",
              "      <td>73.1640</td>\n",
              "      <td>4.05</td>\n",
              "      <td>0.156165</td>\n",
              "      <td>1.0867</td>\n",
              "      <td>0.416054</td>\n",
              "      <td>10</td>\n",
              "      <td>bangalore</td>\n",
              "      <td>6.263992</td>\n",
              "    </tr>\n",
              "    <tr>\n",
              "      <th>...</th>\n",
              "      <td>...</td>\n",
              "      <td>...</td>\n",
              "      <td>...</td>\n",
              "      <td>...</td>\n",
              "      <td>...</td>\n",
              "      <td>...</td>\n",
              "      <td>...</td>\n",
              "      <td>...</td>\n",
              "      <td>...</td>\n",
              "      <td>...</td>\n",
              "      <td>...</td>\n",
              "    </tr>\n",
              "    <tr>\n",
              "      <th>166</th>\n",
              "      <td>2019-10-01</td>\n",
              "      <td>1</td>\n",
              "      <td>91.945366</td>\n",
              "      <td>208.2360</td>\n",
              "      <td>8.10</td>\n",
              "      <td>10.293369</td>\n",
              "      <td>6.5202</td>\n",
              "      <td>0.444415</td>\n",
              "      <td>17</td>\n",
              "      <td>bangalore</td>\n",
              "      <td>34.887190</td>\n",
              "    </tr>\n",
              "    <tr>\n",
              "      <th>167</th>\n",
              "      <td>2019-11-01</td>\n",
              "      <td>1</td>\n",
              "      <td>94.311501</td>\n",
              "      <td>209.3616</td>\n",
              "      <td>8.10</td>\n",
              "      <td>10.324048</td>\n",
              "      <td>6.5202</td>\n",
              "      <td>0.445658</td>\n",
              "      <td>17</td>\n",
              "      <td>bangalore</td>\n",
              "      <td>34.515030</td>\n",
              "    </tr>\n",
              "    <tr>\n",
              "      <th>168</th>\n",
              "      <td>2019-12-01</td>\n",
              "      <td>1</td>\n",
              "      <td>98.919228</td>\n",
              "      <td>209.3616</td>\n",
              "      <td>8.10</td>\n",
              "      <td>10.333790</td>\n",
              "      <td>6.5202</td>\n",
              "      <td>0.447926</td>\n",
              "      <td>17</td>\n",
              "      <td>hyderabad</td>\n",
              "      <td>33.132712</td>\n",
              "    </tr>\n",
              "    <tr>\n",
              "      <th>169</th>\n",
              "      <td>2020-01-01</td>\n",
              "      <td>1</td>\n",
              "      <td>99.835793</td>\n",
              "      <td>209.3616</td>\n",
              "      <td>8.10</td>\n",
              "      <td>10.403745</td>\n",
              "      <td>6.5202</td>\n",
              "      <td>0.448354</td>\n",
              "      <td>17</td>\n",
              "      <td>hyderabad</td>\n",
              "      <td>32.857742</td>\n",
              "    </tr>\n",
              "    <tr>\n",
              "      <th>170</th>\n",
              "      <td>2020-02-01</td>\n",
              "      <td>1</td>\n",
              "      <td>111.033821</td>\n",
              "      <td>210.4872</td>\n",
              "      <td>8.10</td>\n",
              "      <td>10.438723</td>\n",
              "      <td>6.5202</td>\n",
              "      <td>0.453074</td>\n",
              "      <td>17</td>\n",
              "      <td>mumbai</td>\n",
              "      <td>29.836014</td>\n",
              "    </tr>\n",
              "  </tbody>\n",
              "</table>\n",
              "<p>171 rows × 11 columns</p>\n",
              "</div>\n",
              "      <button class=\"colab-df-convert\" onclick=\"convertToInteractive('df-2af8ddf1-8106-478d-aa78-9252c1899803')\"\n",
              "              title=\"Convert this dataframe to an interactive table.\"\n",
              "              style=\"display:none;\">\n",
              "        \n",
              "  <svg xmlns=\"http://www.w3.org/2000/svg\" height=\"24px\"viewBox=\"0 0 24 24\"\n",
              "       width=\"24px\">\n",
              "    <path d=\"M0 0h24v24H0V0z\" fill=\"none\"/>\n",
              "    <path d=\"M18.56 5.44l.94 2.06.94-2.06 2.06-.94-2.06-.94-.94-2.06-.94 2.06-2.06.94zm-11 1L8.5 8.5l.94-2.06 2.06-.94-2.06-.94L8.5 2.5l-.94 2.06-2.06.94zm10 10l.94 2.06.94-2.06 2.06-.94-2.06-.94-.94-2.06-.94 2.06-2.06.94z\"/><path d=\"M17.41 7.96l-1.37-1.37c-.4-.4-.92-.59-1.43-.59-.52 0-1.04.2-1.43.59L10.3 9.45l-7.72 7.72c-.78.78-.78 2.05 0 2.83L4 21.41c.39.39.9.59 1.41.59.51 0 1.02-.2 1.41-.59l7.78-7.78 2.81-2.81c.8-.78.8-2.07 0-2.86zM5.41 20L4 18.59l7.72-7.72 1.47 1.35L5.41 20z\"/>\n",
              "  </svg>\n",
              "      </button>\n",
              "      \n",
              "  <style>\n",
              "    .colab-df-container {\n",
              "      display:flex;\n",
              "      flex-wrap:wrap;\n",
              "      gap: 12px;\n",
              "    }\n",
              "\n",
              "    .colab-df-convert {\n",
              "      background-color: #E8F0FE;\n",
              "      border: none;\n",
              "      border-radius: 50%;\n",
              "      cursor: pointer;\n",
              "      display: none;\n",
              "      fill: #1967D2;\n",
              "      height: 32px;\n",
              "      padding: 0 0 0 0;\n",
              "      width: 32px;\n",
              "    }\n",
              "\n",
              "    .colab-df-convert:hover {\n",
              "      background-color: #E2EBFA;\n",
              "      box-shadow: 0px 1px 2px rgba(60, 64, 67, 0.3), 0px 1px 3px 1px rgba(60, 64, 67, 0.15);\n",
              "      fill: #174EA6;\n",
              "    }\n",
              "\n",
              "    [theme=dark] .colab-df-convert {\n",
              "      background-color: #3B4455;\n",
              "      fill: #D2E3FC;\n",
              "    }\n",
              "\n",
              "    [theme=dark] .colab-df-convert:hover {\n",
              "      background-color: #434B5C;\n",
              "      box-shadow: 0px 1px 3px 1px rgba(0, 0, 0, 0.15);\n",
              "      filter: drop-shadow(0px 1px 2px rgba(0, 0, 0, 0.3));\n",
              "      fill: #FFFFFF;\n",
              "    }\n",
              "  </style>\n",
              "\n",
              "      <script>\n",
              "        const buttonEl =\n",
              "          document.querySelector('#df-2af8ddf1-8106-478d-aa78-9252c1899803 button.colab-df-convert');\n",
              "        buttonEl.style.display =\n",
              "          google.colab.kernel.accessAllowed ? 'block' : 'none';\n",
              "\n",
              "        async function convertToInteractive(key) {\n",
              "          const element = document.querySelector('#df-2af8ddf1-8106-478d-aa78-9252c1899803');\n",
              "          const dataTable =\n",
              "            await google.colab.kernel.invokeFunction('convertToInteractive',\n",
              "                                                     [key], {});\n",
              "          if (!dataTable) return;\n",
              "\n",
              "          const docLinkHtml = 'Like what you see? Visit the ' +\n",
              "            '<a target=\"_blank\" href=https://colab.research.google.com/notebooks/data_table.ipynb>data table notebook</a>'\n",
              "            + ' to learn more about interactive tables.';\n",
              "          element.innerHTML = '';\n",
              "          dataTable['output_type'] = 'display_data';\n",
              "          await google.colab.output.renderOutput(dataTable, element);\n",
              "          const docLink = document.createElement('div');\n",
              "          docLink.innerHTML = docLinkHtml;\n",
              "          element.appendChild(docLink);\n",
              "        }\n",
              "      </script>\n",
              "    </div>\n",
              "  </div>\n",
              "  "
            ]
          },
          "metadata": {},
          "execution_count": 6
        }
      ]
    },
    {
      "cell_type": "code",
      "source": [
        "df.drop(columns=['Company Id'],inplace=True) # Drop company Id column"
      ],
      "metadata": {
        "id": "TKbykvJ6Wx8c"
      },
      "execution_count": null,
      "outputs": []
    },
    {
      "cell_type": "code",
      "source": [
        "df=pd.get_dummies(df) # converting categorical variables into numerical variables"
      ],
      "metadata": {
        "id": "EOlDo0IQYkRx"
      },
      "execution_count": null,
      "outputs": []
    },
    {
      "cell_type": "markdown",
      "source": [
        "## Data preparation"
      ],
      "metadata": {
        "id": "BTLcv0NZxXG0"
      }
    },
    {
      "cell_type": "code",
      "source": [
        "# Adding lag features to data frame for making X variable\n",
        "\n",
        "for col in df.columns:\n",
        "  if col not in [\"Date\",\"Expenditure(In lakhs)\"]:\n",
        "    for i in range(1,25):\n",
        "      df[col+str(i)]=df[col].shift(+i)"
      ],
      "metadata": {
        "id": "zi-3h4SUOlmo"
      },
      "execution_count": null,
      "outputs": []
    },
    {
      "cell_type": "code",
      "source": [
        "df.isnull().sum()"
      ],
      "metadata": {
        "colab": {
          "base_uri": "https://localhost:8080/"
        },
        "id": "49tK_alrWRDO",
        "outputId": "37284c2e-fc46-4263-ddfa-b75500a2aa2d"
      },
      "execution_count": null,
      "outputs": [
        {
          "output_type": "execute_result",
          "data": {
            "text/plain": [
              "Date                                        0\n",
              "Expenditure(In lakhs)                       0\n",
              "Profit (In lakhs)                           0\n",
              "Employee salary and benefits (In lakhs)     0\n",
              "liabilities (In lakhs)                      0\n",
              "                                           ..\n",
              "Location_mumbai20                          20\n",
              "Location_mumbai21                          21\n",
              "Location_mumbai22                          22\n",
              "Location_mumbai23                          23\n",
              "Location_mumbai24                          24\n",
              "Length: 252, dtype: int64"
            ]
          },
          "metadata": {},
          "execution_count": 11
        }
      ]
    },
    {
      "cell_type": "code",
      "source": [
        "df.dropna(inplace=True) #dropping null values"
      ],
      "metadata": {
        "id": "ZzfM1grNWXi-"
      },
      "execution_count": null,
      "outputs": []
    },
    {
      "cell_type": "code",
      "execution_count": null,
      "metadata": {
        "colab": {
          "base_uri": "https://localhost:8080/",
          "height": 473
        },
        "id": "WWDRQrAGoo_V",
        "outputId": "7bcae1c5-373b-44a5-9f92-be9cb4f073d1"
      },
      "outputs": [
        {
          "output_type": "execute_result",
          "data": {
            "text/plain": [
              "          Date  Expenditure(In lakhs)  Profit (In lakhs)  \\\n",
              "166 2019-10-01              91.945366           208.2360   \n",
              "167 2019-11-01              94.311501           209.3616   \n",
              "168 2019-12-01              98.919228           209.3616   \n",
              "169 2020-01-01              99.835793           209.3616   \n",
              "170 2020-02-01             111.033821           210.4872   \n",
              "\n",
              "     Employee salary and benefits (In lakhs)  liabilities (In lakhs)  \\\n",
              "166                                      8.1               10.293369   \n",
              "167                                      8.1               10.324048   \n",
              "168                                      8.1               10.333790   \n",
              "169                                      8.1               10.403745   \n",
              "170                                      8.1               10.438723   \n",
              "\n",
              "     R and D expenses (In lakhs)  CSR (In lakhs)  Employees  Taxes (In lakhs)  \\\n",
              "166                       6.5202        0.444415         17         34.887190   \n",
              "167                       6.5202        0.445658         17         34.515030   \n",
              "168                       6.5202        0.447926         17         33.132712   \n",
              "169                       6.5202        0.448354         17         32.857742   \n",
              "170                       6.5202        0.453074         17         29.836014   \n",
              "\n",
              "     Location_bangalore  ...  Location_mumbai15  Location_mumbai16  \\\n",
              "166                   1  ...                0.0                0.0   \n",
              "167                   1  ...                1.0                0.0   \n",
              "168                   0  ...                0.0                1.0   \n",
              "169                   0  ...                0.0                0.0   \n",
              "170                   0  ...                0.0                0.0   \n",
              "\n",
              "     Location_mumbai17  Location_mumbai18  Location_mumbai19  \\\n",
              "166                0.0                0.0                1.0   \n",
              "167                0.0                0.0                0.0   \n",
              "168                0.0                0.0                0.0   \n",
              "169                1.0                0.0                0.0   \n",
              "170                0.0                1.0                0.0   \n",
              "\n",
              "     Location_mumbai20  Location_mumbai21  Location_mumbai22  \\\n",
              "166                0.0                0.0                0.0   \n",
              "167                1.0                0.0                0.0   \n",
              "168                0.0                1.0                0.0   \n",
              "169                0.0                0.0                1.0   \n",
              "170                0.0                0.0                0.0   \n",
              "\n",
              "     Location_mumbai23  Location_mumbai24  \n",
              "166                1.0                0.0  \n",
              "167                0.0                1.0  \n",
              "168                0.0                0.0  \n",
              "169                0.0                0.0  \n",
              "170                1.0                0.0  \n",
              "\n",
              "[5 rows x 252 columns]"
            ],
            "text/html": [
              "\n",
              "  <div id=\"df-7d0088a7-3757-4002-adf1-a10aaa56e230\">\n",
              "    <div class=\"colab-df-container\">\n",
              "      <div>\n",
              "<style scoped>\n",
              "    .dataframe tbody tr th:only-of-type {\n",
              "        vertical-align: middle;\n",
              "    }\n",
              "\n",
              "    .dataframe tbody tr th {\n",
              "        vertical-align: top;\n",
              "    }\n",
              "\n",
              "    .dataframe thead th {\n",
              "        text-align: right;\n",
              "    }\n",
              "</style>\n",
              "<table border=\"1\" class=\"dataframe\">\n",
              "  <thead>\n",
              "    <tr style=\"text-align: right;\">\n",
              "      <th></th>\n",
              "      <th>Date</th>\n",
              "      <th>Expenditure(In lakhs)</th>\n",
              "      <th>Profit (In lakhs)</th>\n",
              "      <th>Employee salary and benefits (In lakhs)</th>\n",
              "      <th>liabilities (In lakhs)</th>\n",
              "      <th>R and D expenses (In lakhs)</th>\n",
              "      <th>CSR (In lakhs)</th>\n",
              "      <th>Employees</th>\n",
              "      <th>Taxes (In lakhs)</th>\n",
              "      <th>Location_bangalore</th>\n",
              "      <th>...</th>\n",
              "      <th>Location_mumbai15</th>\n",
              "      <th>Location_mumbai16</th>\n",
              "      <th>Location_mumbai17</th>\n",
              "      <th>Location_mumbai18</th>\n",
              "      <th>Location_mumbai19</th>\n",
              "      <th>Location_mumbai20</th>\n",
              "      <th>Location_mumbai21</th>\n",
              "      <th>Location_mumbai22</th>\n",
              "      <th>Location_mumbai23</th>\n",
              "      <th>Location_mumbai24</th>\n",
              "    </tr>\n",
              "  </thead>\n",
              "  <tbody>\n",
              "    <tr>\n",
              "      <th>166</th>\n",
              "      <td>2019-10-01</td>\n",
              "      <td>91.945366</td>\n",
              "      <td>208.2360</td>\n",
              "      <td>8.1</td>\n",
              "      <td>10.293369</td>\n",
              "      <td>6.5202</td>\n",
              "      <td>0.444415</td>\n",
              "      <td>17</td>\n",
              "      <td>34.887190</td>\n",
              "      <td>1</td>\n",
              "      <td>...</td>\n",
              "      <td>0.0</td>\n",
              "      <td>0.0</td>\n",
              "      <td>0.0</td>\n",
              "      <td>0.0</td>\n",
              "      <td>1.0</td>\n",
              "      <td>0.0</td>\n",
              "      <td>0.0</td>\n",
              "      <td>0.0</td>\n",
              "      <td>1.0</td>\n",
              "      <td>0.0</td>\n",
              "    </tr>\n",
              "    <tr>\n",
              "      <th>167</th>\n",
              "      <td>2019-11-01</td>\n",
              "      <td>94.311501</td>\n",
              "      <td>209.3616</td>\n",
              "      <td>8.1</td>\n",
              "      <td>10.324048</td>\n",
              "      <td>6.5202</td>\n",
              "      <td>0.445658</td>\n",
              "      <td>17</td>\n",
              "      <td>34.515030</td>\n",
              "      <td>1</td>\n",
              "      <td>...</td>\n",
              "      <td>1.0</td>\n",
              "      <td>0.0</td>\n",
              "      <td>0.0</td>\n",
              "      <td>0.0</td>\n",
              "      <td>0.0</td>\n",
              "      <td>1.0</td>\n",
              "      <td>0.0</td>\n",
              "      <td>0.0</td>\n",
              "      <td>0.0</td>\n",
              "      <td>1.0</td>\n",
              "    </tr>\n",
              "    <tr>\n",
              "      <th>168</th>\n",
              "      <td>2019-12-01</td>\n",
              "      <td>98.919228</td>\n",
              "      <td>209.3616</td>\n",
              "      <td>8.1</td>\n",
              "      <td>10.333790</td>\n",
              "      <td>6.5202</td>\n",
              "      <td>0.447926</td>\n",
              "      <td>17</td>\n",
              "      <td>33.132712</td>\n",
              "      <td>0</td>\n",
              "      <td>...</td>\n",
              "      <td>0.0</td>\n",
              "      <td>1.0</td>\n",
              "      <td>0.0</td>\n",
              "      <td>0.0</td>\n",
              "      <td>0.0</td>\n",
              "      <td>0.0</td>\n",
              "      <td>1.0</td>\n",
              "      <td>0.0</td>\n",
              "      <td>0.0</td>\n",
              "      <td>0.0</td>\n",
              "    </tr>\n",
              "    <tr>\n",
              "      <th>169</th>\n",
              "      <td>2020-01-01</td>\n",
              "      <td>99.835793</td>\n",
              "      <td>209.3616</td>\n",
              "      <td>8.1</td>\n",
              "      <td>10.403745</td>\n",
              "      <td>6.5202</td>\n",
              "      <td>0.448354</td>\n",
              "      <td>17</td>\n",
              "      <td>32.857742</td>\n",
              "      <td>0</td>\n",
              "      <td>...</td>\n",
              "      <td>0.0</td>\n",
              "      <td>0.0</td>\n",
              "      <td>1.0</td>\n",
              "      <td>0.0</td>\n",
              "      <td>0.0</td>\n",
              "      <td>0.0</td>\n",
              "      <td>0.0</td>\n",
              "      <td>1.0</td>\n",
              "      <td>0.0</td>\n",
              "      <td>0.0</td>\n",
              "    </tr>\n",
              "    <tr>\n",
              "      <th>170</th>\n",
              "      <td>2020-02-01</td>\n",
              "      <td>111.033821</td>\n",
              "      <td>210.4872</td>\n",
              "      <td>8.1</td>\n",
              "      <td>10.438723</td>\n",
              "      <td>6.5202</td>\n",
              "      <td>0.453074</td>\n",
              "      <td>17</td>\n",
              "      <td>29.836014</td>\n",
              "      <td>0</td>\n",
              "      <td>...</td>\n",
              "      <td>0.0</td>\n",
              "      <td>0.0</td>\n",
              "      <td>0.0</td>\n",
              "      <td>1.0</td>\n",
              "      <td>0.0</td>\n",
              "      <td>0.0</td>\n",
              "      <td>0.0</td>\n",
              "      <td>0.0</td>\n",
              "      <td>1.0</td>\n",
              "      <td>0.0</td>\n",
              "    </tr>\n",
              "  </tbody>\n",
              "</table>\n",
              "<p>5 rows × 252 columns</p>\n",
              "</div>\n",
              "      <button class=\"colab-df-convert\" onclick=\"convertToInteractive('df-7d0088a7-3757-4002-adf1-a10aaa56e230')\"\n",
              "              title=\"Convert this dataframe to an interactive table.\"\n",
              "              style=\"display:none;\">\n",
              "        \n",
              "  <svg xmlns=\"http://www.w3.org/2000/svg\" height=\"24px\"viewBox=\"0 0 24 24\"\n",
              "       width=\"24px\">\n",
              "    <path d=\"M0 0h24v24H0V0z\" fill=\"none\"/>\n",
              "    <path d=\"M18.56 5.44l.94 2.06.94-2.06 2.06-.94-2.06-.94-.94-2.06-.94 2.06-2.06.94zm-11 1L8.5 8.5l.94-2.06 2.06-.94-2.06-.94L8.5 2.5l-.94 2.06-2.06.94zm10 10l.94 2.06.94-2.06 2.06-.94-2.06-.94-.94-2.06-.94 2.06-2.06.94z\"/><path d=\"M17.41 7.96l-1.37-1.37c-.4-.4-.92-.59-1.43-.59-.52 0-1.04.2-1.43.59L10.3 9.45l-7.72 7.72c-.78.78-.78 2.05 0 2.83L4 21.41c.39.39.9.59 1.41.59.51 0 1.02-.2 1.41-.59l7.78-7.78 2.81-2.81c.8-.78.8-2.07 0-2.86zM5.41 20L4 18.59l7.72-7.72 1.47 1.35L5.41 20z\"/>\n",
              "  </svg>\n",
              "      </button>\n",
              "      \n",
              "  <style>\n",
              "    .colab-df-container {\n",
              "      display:flex;\n",
              "      flex-wrap:wrap;\n",
              "      gap: 12px;\n",
              "    }\n",
              "\n",
              "    .colab-df-convert {\n",
              "      background-color: #E8F0FE;\n",
              "      border: none;\n",
              "      border-radius: 50%;\n",
              "      cursor: pointer;\n",
              "      display: none;\n",
              "      fill: #1967D2;\n",
              "      height: 32px;\n",
              "      padding: 0 0 0 0;\n",
              "      width: 32px;\n",
              "    }\n",
              "\n",
              "    .colab-df-convert:hover {\n",
              "      background-color: #E2EBFA;\n",
              "      box-shadow: 0px 1px 2px rgba(60, 64, 67, 0.3), 0px 1px 3px 1px rgba(60, 64, 67, 0.15);\n",
              "      fill: #174EA6;\n",
              "    }\n",
              "\n",
              "    [theme=dark] .colab-df-convert {\n",
              "      background-color: #3B4455;\n",
              "      fill: #D2E3FC;\n",
              "    }\n",
              "\n",
              "    [theme=dark] .colab-df-convert:hover {\n",
              "      background-color: #434B5C;\n",
              "      box-shadow: 0px 1px 3px 1px rgba(0, 0, 0, 0.15);\n",
              "      filter: drop-shadow(0px 1px 2px rgba(0, 0, 0, 0.3));\n",
              "      fill: #FFFFFF;\n",
              "    }\n",
              "  </style>\n",
              "\n",
              "      <script>\n",
              "        const buttonEl =\n",
              "          document.querySelector('#df-7d0088a7-3757-4002-adf1-a10aaa56e230 button.colab-df-convert');\n",
              "        buttonEl.style.display =\n",
              "          google.colab.kernel.accessAllowed ? 'block' : 'none';\n",
              "\n",
              "        async function convertToInteractive(key) {\n",
              "          const element = document.querySelector('#df-7d0088a7-3757-4002-adf1-a10aaa56e230');\n",
              "          const dataTable =\n",
              "            await google.colab.kernel.invokeFunction('convertToInteractive',\n",
              "                                                     [key], {});\n",
              "          if (!dataTable) return;\n",
              "\n",
              "          const docLinkHtml = 'Like what you see? Visit the ' +\n",
              "            '<a target=\"_blank\" href=https://colab.research.google.com/notebooks/data_table.ipynb>data table notebook</a>'\n",
              "            + ' to learn more about interactive tables.';\n",
              "          element.innerHTML = '';\n",
              "          dataTable['output_type'] = 'display_data';\n",
              "          await google.colab.output.renderOutput(dataTable, element);\n",
              "          const docLink = document.createElement('div');\n",
              "          docLink.innerHTML = docLinkHtml;\n",
              "          element.appendChild(docLink);\n",
              "        }\n",
              "      </script>\n",
              "    </div>\n",
              "  </div>\n",
              "  "
            ]
          },
          "metadata": {},
          "execution_count": 425
        }
      ],
      "source": [
        "df.tail()"
      ]
    },
    {
      "cell_type": "code",
      "execution_count": null,
      "metadata": {
        "colab": {
          "base_uri": "https://localhost:8080/"
        },
        "id": "MU39UJwVoo_W",
        "outputId": "75c8687c-5603-4f32-cbb2-8c371344834f"
      },
      "outputs": [
        {
          "output_type": "execute_result",
          "data": {
            "text/plain": [
              "(147, 252)"
            ]
          },
          "metadata": {},
          "execution_count": 426
        }
      ],
      "source": [
        "df.shape"
      ]
    },
    {
      "cell_type": "code",
      "source": [
        "df.index=df['Date']\n",
        "df.index = pd.to_datetime(df.index)"
      ],
      "metadata": {
        "id": "a5s03cr9sPoa"
      },
      "execution_count": null,
      "outputs": []
    },
    {
      "cell_type": "code",
      "source": [
        "df.drop(columns=[\"Date\"],inplace=True)\n"
      ],
      "metadata": {
        "id": "EhAPKWRcsWkJ"
      },
      "execution_count": null,
      "outputs": []
    },
    {
      "cell_type": "markdown",
      "source": [
        "### Separating X and Y variable\n"
      ],
      "metadata": {
        "id": "Q5eBi9c1cC9u"
      }
    },
    {
      "cell_type": "code",
      "source": [
        "x=df.drop(columns=[\"Expenditure(In lakhs)\"])\n",
        "y=df[\"Expenditure(In lakhs)\"]"
      ],
      "metadata": {
        "id": "ZbOpVEL9eEXp"
      },
      "execution_count": null,
      "outputs": []
    },
    {
      "cell_type": "code",
      "source": [
        "print(type(y))\n",
        "y=pd.DataFrame(y)"
      ],
      "metadata": {
        "colab": {
          "base_uri": "https://localhost:8080/"
        },
        "id": "tyDIhzacv2z-",
        "outputId": "c9803761-72c6-441a-dcb6-818d5a7946d1"
      },
      "execution_count": null,
      "outputs": [
        {
          "output_type": "stream",
          "name": "stdout",
          "text": [
            "<class 'pandas.core.series.Series'>\n"
          ]
        }
      ]
    },
    {
      "cell_type": "code",
      "source": [
        "# # Adding lag features to data frame for making Y variable\n",
        "for i in range(1,12):\n",
        "  y[\"Expenditure_lag\"+str(i)]=y[\"Expenditure(In lakhs)\"].shift(-i)"
      ],
      "metadata": {
        "id": "HHAsLjv_vuZ0"
      },
      "execution_count": null,
      "outputs": []
    },
    {
      "cell_type": "code",
      "source": [
        "y.isnull().sum()"
      ],
      "metadata": {
        "colab": {
          "base_uri": "https://localhost:8080/"
        },
        "id": "eeETqzzDwk62",
        "outputId": "5e100225-b075-4d71-c876-10e0c02be4a9"
      },
      "execution_count": null,
      "outputs": [
        {
          "output_type": "execute_result",
          "data": {
            "text/plain": [
              "Expenditure(In lakhs)     0\n",
              "Expenditure_lag1          1\n",
              "Expenditure_lag2          2\n",
              "Expenditure_lag3          3\n",
              "Expenditure_lag4          4\n",
              "Expenditure_lag5          5\n",
              "Expenditure_lag6          6\n",
              "Expenditure_lag7          7\n",
              "Expenditure_lag8          8\n",
              "Expenditure_lag9          9\n",
              "Expenditure_lag10        10\n",
              "Expenditure_lag11        11\n",
              "dtype: int64"
            ]
          },
          "metadata": {},
          "execution_count": 436
        }
      ]
    },
    {
      "cell_type": "code",
      "source": [
        "y.dropna(inplace=True)\n",
        "x=x[:-11] # dropping last 11 rows"
      ],
      "metadata": {
        "id": "vv-gP01H42Bf"
      },
      "execution_count": null,
      "outputs": []
    },
    {
      "cell_type": "markdown",
      "source": [
        "### train and test split\n"
      ],
      "metadata": {
        "id": "FpVlb9J9I1a9"
      }
    },
    {
      "cell_type": "code",
      "execution_count": null,
      "metadata": {
        "colab": {
          "base_uri": "https://localhost:8080/"
        },
        "id": "y1VTdsUXoo_d",
        "outputId": "83f8c1c0-2cbd-4dcd-adc8-603cc69bf87f"
      },
      "outputs": [
        {
          "output_type": "stream",
          "name": "stdout",
          "text": [
            "44\n"
          ]
        }
      ],
      "source": [
        "test_split=round(len(df)*0.30)\n",
        "print(test_split)"
      ]
    },
    {
      "cell_type": "code",
      "execution_count": null,
      "metadata": {
        "colab": {
          "base_uri": "https://localhost:8080/"
        },
        "id": "MLdmi1cGoo_e",
        "outputId": "0d56fe11-63ec-4bbf-c9cb-00b99ee7d44f"
      },
      "outputs": [
        {
          "output_type": "stream",
          "name": "stdout",
          "text": [
            "[[ 99.0528       4.05         1.05053997 ...   0.           0.\n",
            "    1.        ]\n",
            " [ 99.0528       4.05         1.06145291 ...   1.           0.\n",
            "    0.        ]\n",
            " [100.1784       4.05         1.30102258 ...   0.           1.\n",
            "    0.        ]\n",
            " ...\n",
            " [166.5888       7.0875       7.36241292 ...   0.           0.\n",
            "    1.        ]\n",
            " [167.7144       7.0875       7.39238704 ...   0.           0.\n",
            "    0.        ]\n",
            " [167.7144       7.0875       7.41477595 ...   1.           0.\n",
            "    0.        ]]\n"
          ]
        }
      ],
      "source": [
        "trainX,testX=x[:-test_split].values,x[-test_split:].values\n",
        "trainY,testY=y[:-test_split].values,y[-test_split:].values\n",
        "print(trainX)"
      ]
    },
    {
      "cell_type": "code",
      "source": [
        "print(testX)"
      ],
      "metadata": {
        "colab": {
          "base_uri": "https://localhost:8080/"
        },
        "id": "koYa4exokA0I",
        "outputId": "718456c5-93d2-4f90-de13-25307b1a8c0e"
      },
      "execution_count": null,
      "outputs": [
        {
          "output_type": "stream",
          "name": "stdout",
          "text": [
            "[[168.84         7.0875       7.47406038 ...   0.           1.\n",
            "    0.        ]\n",
            " [168.84         7.0875       7.47809824 ...   0.           0.\n",
            "    1.        ]\n",
            " [169.9656       7.0875       7.50502201 ...   0.           0.\n",
            "    0.        ]\n",
            " ...\n",
            " [202.608        8.1          9.63011021 ...   0.           1.\n",
            "    0.        ]\n",
            " [203.7336       8.1          9.64830748 ...   0.           0.\n",
            "    1.        ]\n",
            " [203.7336       8.1          9.67725691 ...   0.           0.\n",
            "    0.        ]]\n"
          ]
        }
      ]
    },
    {
      "cell_type": "markdown",
      "source": [
        "### Creating trainx,trainy,testx,testy\n",
        "\n"
      ],
      "metadata": {
        "id": "hhC5fqaqI-aN"
      }
    },
    {
      "cell_type": "code",
      "execution_count": null,
      "metadata": {
        "colab": {
          "base_uri": "https://localhost:8080/"
        },
        "id": "T4e98lHsoo_f",
        "outputId": "e8eecc44-74fe-4e2b-c9e2-813d08672bc0"
      },
      "outputs": [
        {
          "output_type": "stream",
          "name": "stdout",
          "text": [
            "(92, 250) (44, 250)\n"
          ]
        }
      ],
      "source": [
        "print(trainX.shape,testX.shape)"
      ]
    },
    {
      "cell_type": "code",
      "source": [
        "print(trainX)"
      ],
      "metadata": {
        "colab": {
          "base_uri": "https://localhost:8080/"
        },
        "id": "nd4DYsdEiY-N",
        "outputId": "319d940d-7d7c-488a-ca82-59c87bed544c"
      },
      "execution_count": null,
      "outputs": [
        {
          "output_type": "stream",
          "name": "stdout",
          "text": [
            "[[ 99.0528       4.05         1.05053997 ...   0.           0.\n",
            "    1.        ]\n",
            " [ 99.0528       4.05         1.06145291 ...   1.           0.\n",
            "    0.        ]\n",
            " [100.1784       4.05         1.30102258 ...   0.           1.\n",
            "    0.        ]\n",
            " ...\n",
            " [166.5888       7.0875       7.36241292 ...   0.           0.\n",
            "    1.        ]\n",
            " [167.7144       7.0875       7.39238704 ...   0.           0.\n",
            "    0.        ]\n",
            " [167.7144       7.0875       7.41477595 ...   1.           0.\n",
            "    0.        ]]\n"
          ]
        }
      ]
    },
    {
      "cell_type": "code",
      "source": [
        "print(trainY)"
      ],
      "metadata": {
        "colab": {
          "base_uri": "https://localhost:8080/"
        },
        "id": "E-0PDM6-h2F3",
        "outputId": "3e3be077-6cb5-4c2e-c8f1-b68a64f72ee6"
      },
      "execution_count": null,
      "outputs": [
        {
          "output_type": "stream",
          "name": "stdout",
          "text": [
            "[[ 59.198112  60.24419   59.556767 ...  68.518173  68.204353  69.10099 ]\n",
            " [ 60.24419   59.556767  60.423519 ...  68.204353  69.10099   68.244202]\n",
            " [ 59.556767  60.423519  63.113434 ...  69.10099   68.244202  66.968987]\n",
            " ...\n",
            " [ 96.48336   96.827065 107.372543 ...  92.981483  91.083595  96.438522]\n",
            " [ 96.827065 107.372543 102.61039  ...  91.083595  96.438522  96.986473]\n",
            " [107.372543 102.61039  102.849495 ...  96.438522  96.986473  98.545624]]\n"
          ]
        }
      ]
    },
    {
      "cell_type": "markdown",
      "source": [
        "### For feature scaling\n"
      ],
      "metadata": {
        "id": "yLN2P6-eJUmI"
      }
    },
    {
      "cell_type": "code",
      "execution_count": null,
      "metadata": {
        "colab": {
          "base_uri": "https://localhost:8080/"
        },
        "id": "LkvtT66Voo_g",
        "outputId": "431f3fa2-831d-46a3-99db-743f8701568b"
      },
      "outputs": [
        {
          "output_type": "stream",
          "name": "stdout",
          "text": [
            "(92, 250) (44, 250)\n"
          ]
        }
      ],
      "source": [
        "print(trainX.shape,testX.shape)"
      ]
    },
    {
      "cell_type": "code",
      "source": [
        "print(trainY.shape,testY.shape)"
      ],
      "metadata": {
        "colab": {
          "base_uri": "https://localhost:8080/"
        },
        "id": "qBu1sfIM9K3v",
        "outputId": "df95ccb9-f773-4faf-b9c7-4c83913a2e6f"
      },
      "execution_count": null,
      "outputs": [
        {
          "output_type": "stream",
          "name": "stdout",
          "text": [
            "(92, 12) (44, 12)\n"
          ]
        }
      ]
    },
    {
      "cell_type": "code",
      "execution_count": null,
      "metadata": {
        "id": "pje2c2oWoo_h"
      },
      "outputs": [],
      "source": [
        "# # feature scaling for x-variables\n",
        "scaler_x = StandardScaler()\n",
        "trainX = scaler_x.fit_transform(trainX)\n",
        "testX=scaler_x.transform(testX)"
      ]
    },
    {
      "cell_type": "code",
      "source": [
        "# #feature scaling for x-variables\n",
        "scaler_y = StandardScaler()\n",
        "trainY = scaler_y.fit_transform(trainY)\n",
        "testY=scaler_y.transform(testY)"
      ],
      "metadata": {
        "id": "I-emczdYqhU5"
      },
      "execution_count": null,
      "outputs": []
    },
    {
      "cell_type": "code",
      "execution_count": null,
      "metadata": {
        "colab": {
          "base_uri": "https://localhost:8080/"
        },
        "id": "QqxokkcWoo_0",
        "outputId": "c051db01-42d3-4c81-9171-65c66f1ee9c9"
      },
      "outputs": [
        {
          "output_type": "stream",
          "name": "stdout",
          "text": [
            "(92, 250)\n"
          ]
        }
      ],
      "source": [
        "print(trainX.shape)"
      ]
    },
    {
      "cell_type": "code",
      "execution_count": null,
      "metadata": {
        "colab": {
          "base_uri": "https://localhost:8080/"
        },
        "id": "4IPaYzcwoo_2",
        "outputId": "a74839e9-a26b-47bf-e7c7-70dca28d4961"
      },
      "outputs": [
        {
          "output_type": "stream",
          "name": "stdout",
          "text": [
            "trainX Shape--  (92, 250)\n",
            "testX Shape--  (44, 250)\n"
          ]
        }
      ],
      "source": [
        "print(\"trainX Shape-- \",trainX.shape)\n",
        "print(\"testX Shape-- \",testX.shape)"
      ]
    },
    {
      "cell_type": "code",
      "execution_count": null,
      "metadata": {
        "colab": {
          "base_uri": "https://localhost:8080/"
        },
        "id": "CHMIu20Foo_3",
        "outputId": "dea0fbf0-b2d9-4bc3-925f-75a580ae00cd"
      },
      "outputs": [
        {
          "output_type": "stream",
          "name": "stdout",
          "text": [
            "trainX[0]-- \n",
            " [1.40135454 1.4097534  1.34279719 0.95367831 1.12493103 0.6877349\n",
            " 0.40839309 0.19369005 0.74221907 0.78941259 0.95232002 0.98210453]\n",
            "trainY[0]--  [-2.34319421 -2.34095192 -2.49211177 -2.51926476 -2.3823652  -2.32714083\n",
            " -2.38239089 -2.26018929 -2.38480613 -2.33291552 -2.46825144 -2.476926  ]\n"
          ]
        }
      ],
      "source": [
        "print(\"trainX[0]-- \\n\",testY[0])\n",
        "print(\"trainY[0]-- \",trainY[0])"
      ]
    },
    {
      "cell_type": "code",
      "execution_count": null,
      "metadata": {
        "colab": {
          "base_uri": "https://localhost:8080/"
        },
        "id": "nKPr5QL3oo_3",
        "outputId": "5fa77997-4dd1-467c-9790-5d7f01415688"
      },
      "outputs": [
        {
          "output_type": "stream",
          "name": "stdout",
          "text": [
            "testX[0]-- \n",
            " [ 1.7215851   1.49333911  1.74025264  1.35375921  1.15731972  0.99077309\n",
            "  1.44777633 -0.87705802 -0.73029674  1.8973666   1.69761327  1.72974809\n",
            "  1.70476589  1.7368165   1.71368104  1.68969463  1.72330093  1.70099093\n",
            "  1.73587843  1.65607019  1.68491493  1.71477212  1.69157455  1.55791773\n",
            "  1.58471778  1.55833106  1.58400128  1.61173137  1.64038448  1.61499068\n",
            "  1.59065861  1.56382371  1.58915106  1.56486384  1.52742702  1.56321071\n",
            "  1.60082553  1.64042646  1.68219126  1.72632433  1.77306148  1.82267596\n",
            "  1.87548598  1.93186427  1.99225032  2.05716625  2.12723757  2.20322077\n",
            "  2.28604065  2.37684145  2.47705852  2.58852092  1.39975118  1.43356437\n",
            "  1.46882129  1.50564714  1.54418278  1.58458734  1.74230722  1.76623346\n",
            "  1.7876162   1.81347431  1.76495878  1.7403448   1.75554009  1.78994854\n",
            "  1.82569506  1.86834312  1.87480793  1.89122036  1.84915565  1.87978406\n",
            "  1.79602085  1.82002731  1.79499386  1.82840626  1.72531673  1.76014461\n",
            "  1.75599374  1.76577766  1.75247267  1.77910661  1.37479175  1.39732001\n",
            "  1.42133811  1.44685858  1.47391105  1.5025416   1.53281263  1.56480332\n",
            "  1.59861051  1.63435013  1.67215923  1.71219857  1.75465602  1.79975092\n",
            "  1.84773954  1.89892206  1.95365143  2.01234477  2.07549809  2.14370563\n",
            "  2.21768543  2.29831369  2.38667185  2.48411204  1.41139903  0.85477807\n",
            "  0.84561446  0.75273999  0.72891186  0.47403016  0.56463755  0.75318189\n",
            "  0.89895284  0.86216755  1.14097577  1.09002847  1.00686269  1.01424047\n",
            "  1.01286523  1.06179415  1.05946108  0.99756238  1.11476611  1.10232909\n",
            "  1.28796223  1.23188336  1.29075657  1.18588366  1.00980416  1.73015599\n",
            "  1.78008928  1.83312293  1.8896261   1.95003292  2.01485797  2.08471661\n",
            "  2.16035181  2.24267043  2.33279295  2.41460427  1.64243748  0.84708256\n",
            "  0.86063743  0.87496477  0.88999583  0.90568028  0.92198212  0.93887659\n",
            "  0.95634808  0.97438848  0.99299609  1.01217468  0.99725848  1.90005746\n",
            "  1.89272029  2.11478354  2.14777236  2.56886931  2.56509155  2.23897233\n",
            "  2.03532701  1.98064995  1.42925655  1.65000152  1.83450543  1.56934336\n",
            "  1.66202699  1.5185525   1.60645186  1.83803307  1.64963729  1.6447433\n",
            "  1.15373153  1.24688309  1.17905731  1.38685891 -0.89661673 -0.91651514\n",
            "  1.11530374  1.11530374 -0.89661673  1.11530374 -0.89661673  1.14017543\n",
            " -0.87705802 -0.89661673 -0.91651514  1.11530374  1.11530374 -0.89661673\n",
            "  1.11530374 -0.89661673  1.14017543 -0.87705802 -0.89661673 -0.91651514\n",
            "  1.11530374  1.14017543 -0.89661673  1.14017543  1.40276225  1.43759058\n",
            " -0.69560834 -0.69560834 -0.71287918 -0.71287918  1.43759058 -0.71287918\n",
            " -0.73029674  1.40276225  1.43759058 -0.69560834 -0.69560834 -0.71287918\n",
            " -0.71287918  1.43759058 -0.71287918 -0.73029674  1.40276225  1.43759058\n",
            " -0.69560834 -0.71287918 -0.71287918 -0.71287918 -0.52704628 -0.52704628\n",
            " -0.54385168 -0.54385168  1.8973666  -0.52704628 -0.54385168 -0.54385168\n",
            "  1.8973666  -0.52704628 -0.52704628 -0.54385168 -0.54385168  1.8973666\n",
            " -0.52704628 -0.54385168 -0.54385168  1.8973666  -0.52704628 -0.52704628\n",
            " -0.54385168 -0.54385168  1.8973666  -0.54385168]\n",
            "testY[0]--  [1.40135454 1.4097534  1.34279719 0.95367831 1.12493103 0.6877349\n",
            " 0.40839309 0.19369005 0.74221907 0.78941259 0.95232002 0.98210453]\n"
          ]
        }
      ],
      "source": [
        "print(\"testX[0]-- \\n\",testX[0])\n",
        "print(\"testY[0]-- \",testY[0])"
      ]
    },
    {
      "cell_type": "code",
      "execution_count": null,
      "metadata": {
        "colab": {
          "base_uri": "https://localhost:8080/"
        },
        "id": "O2RGchknoo_4",
        "outputId": "0320ddf5-7abe-4355-b32a-801b015a2a99"
      },
      "outputs": [
        {
          "output_type": "stream",
          "name": "stdout",
          "text": [
            "testX_shape:\n",
            " (44, 250)\n",
            "testY_shape:--  (44, 12)\n"
          ]
        }
      ],
      "source": [
        "print(\"testX_shape:\\n\",testX.shape)\n",
        "print(\"testY_shape:-- \",testY.shape)"
      ]
    },
    {
      "cell_type": "markdown",
      "source": [
        "## Model building using MUltiOutputRegressor (Wrapper around Xgbosstregressor)\n"
      ],
      "metadata": {
        "id": "c3ChLbcMJpfg"
      }
    },
    {
      "cell_type": "code",
      "execution_count": null,
      "metadata": {
        "scrolled": false,
        "colab": {
          "base_uri": "https://localhost:8080/"
        },
        "id": "W5cWDYrPopAC",
        "outputId": "c5ec8561-aa11-491d-b7ee-d1c3d495069c"
      },
      "outputs": [
        {
          "output_type": "stream",
          "name": "stdout",
          "text": [
            "[10:49:16] WARNING: /workspace/src/objective/regression_obj.cu:152: reg:linear is now deprecated in favor of reg:squarederror.\n",
            "[10:49:18] WARNING: /workspace/src/objective/regression_obj.cu:152: reg:linear is now deprecated in favor of reg:squarederror.\n",
            "[10:49:19] WARNING: /workspace/src/objective/regression_obj.cu:152: reg:linear is now deprecated in favor of reg:squarederror.\n",
            "[10:49:20] WARNING: /workspace/src/objective/regression_obj.cu:152: reg:linear is now deprecated in favor of reg:squarederror.\n",
            "[10:49:22] WARNING: /workspace/src/objective/regression_obj.cu:152: reg:linear is now deprecated in favor of reg:squarederror.\n",
            "[10:49:23] WARNING: /workspace/src/objective/regression_obj.cu:152: reg:linear is now deprecated in favor of reg:squarederror.\n",
            "[10:49:24] WARNING: /workspace/src/objective/regression_obj.cu:152: reg:linear is now deprecated in favor of reg:squarederror.\n",
            "[10:49:26] WARNING: /workspace/src/objective/regression_obj.cu:152: reg:linear is now deprecated in favor of reg:squarederror.\n",
            "[10:49:27] WARNING: /workspace/src/objective/regression_obj.cu:152: reg:linear is now deprecated in favor of reg:squarederror.\n",
            "[10:49:28] WARNING: /workspace/src/objective/regression_obj.cu:152: reg:linear is now deprecated in favor of reg:squarederror.\n",
            "[10:49:29] WARNING: /workspace/src/objective/regression_obj.cu:152: reg:linear is now deprecated in favor of reg:squarederror.\n",
            "[10:49:31] WARNING: /workspace/src/objective/regression_obj.cu:152: reg:linear is now deprecated in favor of reg:squarederror.\n"
          ]
        },
        {
          "output_type": "execute_result",
          "data": {
            "text/plain": [
              "MultiOutputRegressor(estimator=XGBRegressor(colsample_bytree=0.8, gamma=0.2,\n",
              "                                            learning_rate=0.9,\n",
              "                                            n_estimators=1000, nthread=4,\n",
              "                                            random_state=42, seed=27,\n",
              "                                            subsample=0.8))"
            ]
          },
          "metadata": {},
          "execution_count": 453
        }
      ],
      "source": [
        "model = MultiOutputRegressor(xgb.XGBRegressor(learning_rate=0.9,random_state=42,n_estimators=1000,\n",
        " max_depth=3,\n",
        " min_child_weight=1,\n",
        " gamma=0.2,\n",
        " subsample=0.8,\n",
        " colsample_bytree=0.8,\n",
        " nthread=4,\n",
        " seed=27)) \n",
        "model.fit(trainX,trainY)"
      ]
    },
    {
      "cell_type": "markdown",
      "source": [
        "### predictions on testX dataset\n",
        "\n"
      ],
      "metadata": {
        "id": "LCu-1j5gc_rM"
      }
    },
    {
      "cell_type": "code",
      "execution_count": null,
      "metadata": {
        "id": "AF6CZjt-opAD",
        "colab": {
          "base_uri": "https://localhost:8080/"
        },
        "outputId": "6db7adb7-9bbd-4fcc-d9c3-4db1dfbb73a9"
      },
      "outputs": [
        {
          "output_type": "execute_result",
          "data": {
            "text/plain": [
              "array([[ 1.3662381 ,  1.0598458 ,  1.3095224 ,  1.2756076 ,  0.9696554 ,\n",
              "         1.0065775 ,  0.7217074 ,  0.43413177,  0.24914363,  1.702565  ,\n",
              "         1.0799595 ,  1.0198338 ],\n",
              "       [ 1.3662381 ,  1.0598458 ,  1.3988149 ,  1.2068383 ,  0.82935375,\n",
              "         1.2238379 ,  0.7217074 ,  0.36084557,  0.8434522 ,  1.5307381 ,\n",
              "         0.99188817,  0.87339973],\n",
              "       [ 1.3662381 ,  1.304204  ,  1.5077075 ,  1.0569518 ,  0.96728766,\n",
              "         1.2238379 ,  0.5274174 ,  0.6375084 ,  0.514359  ,  1.2205334 ,\n",
              "         0.6869797 ,  1.0198338 ],\n",
              "       [ 1.0819473 ,  1.129422  ,  1.3988149 ,  0.9783659 ,  0.82935375,\n",
              "         1.3403008 ,  1.338979  ,  0.78765833,  0.514359  ,  1.5307381 ,\n",
              "         0.7750514 ,  0.87339973],\n",
              "       [ 1.3662381 ,  0.8850636 ,  1.3988149 ,  1.0569518 ,  0.5230323 ,\n",
              "         2.0064328 ,  1.144644  ,  0.78765833,  0.816308  ,  0.55550015,\n",
              "         0.95408136,  0.87339973],\n",
              "       [ 0.733919  ,  1.1347545 ,  1.5077075 ,  1.2481875 ,  0.6589159 ,\n",
              "         1.834286  ,  1.6949512 ,  1.4814225 ,  1.2487829 ,  0.6891643 ,\n",
              "         0.95408136,  0.88598454],\n",
              "       [ 0.733919  ,  1.1254147 ,  1.1194124 ,  1.3901794 ,  1.2929072 ,\n",
              "         1.5429497 ,  1.689638  ,  1.2047596 ,  0.9835664 ,  0.36138058,\n",
              "         0.86600965,  0.30196756],\n",
              "       [ 0.42302638,  0.7278691 ,  1.1194124 ,  1.2376568 ,  1.3960803 ,\n",
              "         1.6569028 ,  1.4969227 ,  1.0546092 ,  0.9664427 ,  0.2577696 ,\n",
              "         0.48926294,  0.30196756],\n",
              "       [ 0.96722806,  1.3918371 ,  1.3988149 ,  1.3488301 ,  0.6589159 ,\n",
              "         1.4642797 ,  1.4146278 ,  1.2047596 ,  0.7457626 ,  0.15669608,\n",
              "         0.4011913 ,  0.15553358],\n",
              "       [ 1.0819473 ,  1.147479  ,  1.5077075 ,  1.3488301 ,  0.5209818 ,\n",
              "         1.2369828 ,  1.4146278 ,  1.1278955 ,  0.7286389 , -0.32731456,\n",
              "         0.48926294,  0.30196756],\n",
              "       [ 1.0819473 ,  1.3262682 ,  1.3988149 ,  1.6771802 ,  0.38509828,\n",
              "         0.9450487 ,  1.4146278 ,  0.6243845 ,  0.46093708, -0.12072128,\n",
              "         0.22216254,  0.47864795],\n",
              "       [ 1.0819473 ,  1.5706247 ,  1.5077075 ,  1.6771802 ,  0.38509828,\n",
              "         0.9450487 ,  0.97104484,  0.2119995 ,  0.44381332, -0.4309253 ,\n",
              "         0.5270709 ,  0.43581656],\n",
              "       [ 1.0819473 ,  1.3032868 ,  1.3988149 ,  0.9783659 ,  0.624155  ,\n",
              "         1.0065775 ,  1.0586538 ,  0.36084557,  0.24914363,  0.4518894 ,\n",
              "         0.6151425 ,  0.87339973],\n",
              "       [ 1.0819473 ,  1.325351  ,  1.3988149 ,  1.0569518 ,  0.624155  ,\n",
              "         0.9477756 ,  1.0586538 ,  0.86435616,  0.26626754,  1.1335924 ,\n",
              "         1.0799595 ,  0.7395506 ],\n",
              "       [ 0.42302638,  0.549997  ,  1.1194124 ,  1.0569518 ,  0.5209818 ,\n",
              "         1.2814982 ,  1.1869864 ,  0.79106987,  0.26626754,  0.71977746,\n",
              "         1.0799595 ,  0.88598454],\n",
              "       [ 0.5029358 ,  1.1254147 ,  1.5077075 ,  1.0569518 ,  0.5209818 ,\n",
              "         1.3116674 ,  1.4093144 ,  0.86435616,  0.816308  ,  0.8233887 ,\n",
              "         0.99188817,  0.88598454],\n",
              "       [ 0.733919  ,  0.7278691 ,  1.1194124 ,  1.4367872 ,  0.624155  ,\n",
              "         1.3509359 ,  1.4969227 ,  1.0546092 ,  1.2316592 ,  0.71977746,\n",
              "         1.0799595 ,  0.88598454],\n",
              "       [ 0.733919  ,  1.0919492 ,  1.3988149 ,  1.5400661 ,  1.2929072 ,\n",
              "         1.2174587 ,  1.603603  ,  1.1278955 ,  0.9835664 ,  1.0758705 ,\n",
              "         0.86600965,  0.15553358],\n",
              "       [ 0.733919  ,  0.549997  ,  1.1194124 ,  1.868416  ,  1.2929072 ,\n",
              "         1.1041148 ,  1.603603  ,  1.1278955 ,  0.6816174 ,  0.7656671 ,\n",
              "         0.31023416,  0.30196756],\n",
              "       [ 0.733919  ,  0.549997  ,  1.010519  ,  1.868416  ,  1.2929072 ,\n",
              "         1.1041148 ,  1.1869864 ,  0.64222467,  0.6987412 ,  0.8272167 ,\n",
              "         0.22216254,  0.3447989 ],\n",
              "       [ 0.733919  ,  1.1254147 ,  1.1194124 ,  1.5351887 ,  1.1549733 ,\n",
              "         1.1656439 ,  1.160022  ,  0.79106987,  0.24914363,  0.31549138,\n",
              "         0.22216254,  0.88598454],\n",
              "       [ 0.733919  ,  1.3032868 ,  1.010519  ,  1.647839  ,  1.0650444 ,\n",
              "         1.1656439 ,  1.2476306 ,  0.79106987,  0.24914363,  0.62569535,\n",
              "         0.7750514 ,  0.7395506 ],\n",
              "       [ 0.733919  ,  1.0589286 ,  1.3988149 ,  1.5351887 ,  1.2581463 ,\n",
              "         1.0617274 ,  1.2476306 ,  0.86435616,  0.26626754,  0.7293062 ,\n",
              "         1.0799595 ,  0.7395506 ],\n",
              "       [ 0.42302638,  0.549997  ,  1.1194124 ,  1.5351887 ,  0.5209818 ,\n",
              "         1.278988  ,  1.1869864 ,  0.79106987,  0.5314827 ,  0.31549138,\n",
              "         1.0799595 ,  0.88598454],\n",
              "       [ 0.30830732,  0.376132  ,  0.8254039 ,  1.5351887 ,  0.5209818 ,\n",
              "         1.1656439 ,  1.160022  ,  0.89548266,  0.5314827 ,  0.8233887 ,\n",
              "         0.6869797 ,  0.88598454],\n",
              "       [ 0.30830732,  0.7278691 ,  0.8254039 ,  1.5739015 ,  0.624155  ,\n",
              "         1.1656439 ,  1.2476306 ,  0.8221965 ,  0.514359  ,  0.71977746,\n",
              "         0.7750514 ,  0.88598454],\n",
              "       [ 0.30830732,  0.376132  ,  0.7165107 ,  1.4178898 ,  0.6589159 ,\n",
              "         1.278988  ,  1.354312  ,  0.89548266,  0.5314827 ,  1.1335924 ,\n",
              "         0.6869797 ,  0.7395506 ],\n",
              "       [ 0.0046041 ,  0.549997  ,  0.8254039 ,  1.609126  ,  0.6589159 ,\n",
              "         1.1656439 ,  1.354312  ,  0.89548266,  0.514359  ,  0.41910222,\n",
              "         0.7750514 ,  0.756642  ],\n",
              "       [ 0.30830732,  0.376132  ,  0.7165107 ,  1.7264241 ,  1.2929072 ,\n",
              "         1.2913729 ,  1.1869864 ,  0.8221965 ,  0.5314827 ,  0.62569535,\n",
              "         0.6869797 ,  0.7395506 ],\n",
              "       [ 0.30830732,  0.376132  ,  0.8254039 ,  1.5351887 ,  1.2929072 ,\n",
              "         1.2913729 ,  1.160022  ,  0.8221965 ,  0.7322271 ,  0.31549138,\n",
              "         0.6869797 ,  0.756642  ],\n",
              "       [ 0.30830732,  0.7278691 ,  0.8963717 ,  1.4566032 ,  1.2029784 ,\n",
              "         1.2913729 ,  1.2476306 ,  0.8221965 ,  0.7322271 ,  0.62569535,\n",
              "         0.7750514 ,  0.7395506 ],\n",
              "       [ 0.30830732,  0.7278691 ,  0.7165107 ,  1.5351887 ,  0.7620887 ,\n",
              "         1.404717  ,  1.2476306 ,  0.89548266,  0.7493507 ,  0.7293062 ,\n",
              "         0.7750514 ,  0.7395506 ],\n",
              "       [ 0.30830732,  0.549997  ,  0.8254039 ,  1.5351887 ,  0.6589159 ,\n",
              "         1.5201309 ,  1.1869864 ,  0.8221965 ,  0.7493507 ,  0.31549138,\n",
              "         0.6651365 ,  0.756642  ],\n",
              "       [ 0.30830732,  0.376132  ,  0.8254039 ,  1.5351887 ,  0.6589159 ,\n",
              "         1.4067847 ,  1.160022  ,  0.89548266,  0.7493507 ,  0.41910222,\n",
              "         0.57706493,  0.756642  ],\n",
              "       [ 0.30830732,  0.554004  ,  0.8254039 ,  1.5739015 ,  0.7620887 ,\n",
              "         1.2810557 ,  1.2476306 ,  0.8221965 ,  0.514359  ,  0.31549138,\n",
              "         0.6651365 ,  0.756642  ],\n",
              "       [ 0.30830732,  0.376132  ,  1.010519  ,  1.4178898 ,  0.6589159 ,\n",
              "         1.5201309 ,  1.354312  ,  0.89548266,  0.5314827 ,  0.7293062 ,\n",
              "         0.57706493,  0.7395506 ],\n",
              "       [ 0.30830732,  0.376132  ,  0.8254039 ,  1.4178898 ,  0.6589159 ,\n",
              "         1.1656439 ,  1.354312  ,  0.89548266,  0.7322271 ,  0.41910222,\n",
              "         0.7750514 ,  0.756642  ],\n",
              "       [ 0.30830732,  0.55933654,  0.7165107 ,  1.5351887 ,  0.6589159 ,\n",
              "         1.1656439 ,  1.1869864 ,  0.8221965 ,  0.5314827 ,  0.62569535,\n",
              "         0.6869797 ,  0.7395506 ],\n",
              "       [ 0.30830732,  0.55933654,  0.8254039 ,  1.5351887 ,  0.6589159 ,\n",
              "         1.1656439 ,  1.160022  ,  0.8221965 ,  0.514359  ,  0.31549138,\n",
              "         0.6869797 ,  0.756642  ],\n",
              "       [ 0.30830732,  0.7372088 ,  1.010519  ,  1.4566032 ,  0.7620887 ,\n",
              "         1.2810557 ,  1.2476306 ,  0.8221965 ,  0.514359  ,  0.62569535,\n",
              "         0.6651365 ,  0.7395506 ],\n",
              "       [ 0.30830732,  0.7372088 ,  0.7165107 ,  1.5351887 ,  0.7620887 ,\n",
              "         1.404717  ,  1.2476306 ,  0.89548266,  0.5314827 ,  0.7293062 ,\n",
              "         0.7750514 ,  0.96203935],\n",
              "       [ 0.61920017,  1.1347545 ,  1.1194124 ,  1.5351887 ,  0.6589159 ,\n",
              "         1.278988  ,  1.1869864 ,  0.79106987,  0.7493507 ,  0.31549138,\n",
              "         0.7750514 ,  0.756642  ],\n",
              "       [ 0.733919  ,  1.1347545 ,  1.5077075 ,  1.5351887 ,  0.6589159 ,\n",
              "         1.1656439 ,  1.160022  ,  0.86435616,  0.5314827 ,  0.5144562 ,\n",
              "         0.6869797 ,  0.756642  ],\n",
              "       [ 0.733919  ,  1.129422  ,  1.5077075 ,  1.5739015 ,  0.7620887 ,\n",
              "         1.1656439 ,  1.2476306 ,  0.79106987,  0.514359  ,  0.41084552,\n",
              "         0.7750514 ,  0.756642  ]], dtype=float32)"
            ]
          },
          "metadata": {},
          "execution_count": 457
        }
      ],
      "source": [
        "prediction=model.predict(testX)\n",
        "prediction"
      ]
    },
    {
      "cell_type": "code",
      "source": [
        "# Applying inverse tranform to convert into original scale\n",
        "testY=scaler_y.inverse_transform(testY)\n",
        "prediction=scaler_y.inverse_transform(prediction)"
      ],
      "metadata": {
        "id": "gtaX9u-BrvgG"
      },
      "execution_count": null,
      "outputs": []
    },
    {
      "cell_type": "code",
      "execution_count": null,
      "metadata": {
        "colab": {
          "base_uri": "https://localhost:8080/"
        },
        "id": "ZSsoDVGxopAE",
        "outputId": "3f4be87b-919e-40a1-9ff2-8916075d67b8"
      },
      "outputs": [
        {
          "output_type": "stream",
          "name": "stdout",
          "text": [
            "prediction\n",
            " [[102.20327   98.874794 101.87634  101.60586   98.37188   98.89647\n",
            "   96.10541   93.40691   91.80899  105.31228   99.67782   99.20921 ]\n",
            " [102.20327   98.874794 102.870346 100.859566  96.89611  101.12459\n",
            "   96.10541   92.69877   97.38901  103.74562   98.89661   97.94837 ]\n",
            " [102.20327  101.65053  104.08253   99.23299   98.34698  101.12459\n",
            "   94.16822   95.372086  94.29912  100.91728   96.19199   99.20921 ]\n",
            " [ 98.90736   99.66513  102.870346  98.380165  96.89611  102.31897\n",
            "  102.25996   96.82294   94.29912  103.74562   96.97321   97.94837 ]\n",
            " [102.20327   96.8894   102.870346  99.23299   93.67405  109.150505\n",
            "  100.32233   96.82294   97.13415   94.853745  98.56125   97.94837 ]\n",
            " [ 94.872505  99.72571  104.08253  101.3083    95.10335  107.38505\n",
            "  105.809204 103.52658  101.1947    96.07244   98.56125   98.05673 ]\n",
            " [ 94.872505  99.61961   99.76005  102.849205 101.772026 104.39724\n",
            "  105.756226 100.853264  98.70455   93.083824  97.78003   93.02816 ]\n",
            " [ 91.26818   95.10378   99.76005  101.194016 102.85726  105.56589\n",
            "  103.83475   99.402405  98.54378   92.13914   94.4382    93.02816 ]\n",
            " [ 97.57736  102.64598  102.870346 102.40048   95.10335  103.59044\n",
            "  103.01421  100.853264  96.471794  91.21758   93.65698   91.76731 ]\n",
            " [ 98.90736   99.87025  104.08253  102.40048   93.65248  101.25939\n",
            "  103.01421  100.11055   96.31102   86.80454   94.4382    93.02816 ]\n",
            " [ 98.90736  101.90116  102.870346 105.96377   92.223175  98.26546\n",
            "  103.01421   95.24527   93.79754   88.68819   92.068954  94.54943 ]\n",
            " [ 98.90736  104.67688  104.08253  105.96377   92.223175  98.26546\n",
            "   98.59144   91.26051   93.636765  85.859856  94.77357   94.18064 ]\n",
            " [ 98.90736  101.640114 102.870346  98.380165  94.73771   98.89647\n",
            "   99.46495   92.69877   91.80899   93.90906   95.55478   97.94837 ]\n",
            " [ 98.90736  101.89075  102.870346  99.23299   94.73771   98.29343\n",
            "   99.46495   97.56405   91.969765 100.12458   99.67782   96.79588 ]\n",
            " [ 91.26818   93.08328   99.76005   99.23299   93.65248  101.71592\n",
            "  100.7445    96.8559    91.969765  96.35156   99.67782   98.05673 ]\n",
            " [ 92.19461   99.61961  104.08253   99.23299   93.65248  102.02532\n",
            "  102.961235  97.56405   97.13415   97.29626   98.89661   98.05673 ]\n",
            " [ 94.872505  95.10378   99.76005  103.354996  94.73771  102.42804\n",
            "  103.83475   99.402405 101.03392   96.35156   99.67782   98.05673 ]\n",
            " [ 94.872505  99.23947  102.870346 104.47579  101.772026 101.059166\n",
            "  104.89841  100.11055   98.70455   99.5983    97.78003   91.76731 ]\n",
            " [ 94.872505  93.08328   99.76005  108.03908  101.772026  99.89677\n",
            "  104.89841  100.11055   95.86953   96.769966  92.850174  93.02816 ]\n",
            " [ 94.872505  93.08328   98.54786  108.03908  101.772026  99.89677\n",
            "  100.7445    95.417656  96.030304  97.331154  92.068954  93.39695 ]\n",
            " [ 94.872505  99.61961   99.76005  104.42286  100.32116  100.52778\n",
            "  100.475655  96.8559    91.80899   92.66543   92.068954  98.05673 ]\n",
            " [ 94.872505 101.640114  98.54786  105.645355  99.37524  100.52778\n",
            "  101.34916   96.8559    91.80899   95.49376   96.97321   96.79588 ]\n",
            " [ 94.872505  98.86438  102.870346 104.42286  101.40639   99.46206\n",
            "  101.34916   97.56405   91.969765  96.438446  99.67782   96.79588 ]\n",
            " [ 91.26818   93.08328   99.76005  104.42286   93.65248  101.69018\n",
            "  100.7445    96.8559    94.4599    92.66543   99.67782   98.05673 ]\n",
            " [ 89.93819   91.1083    96.48717  104.42286   93.65248  100.52778\n",
            "  100.475655  97.864815  94.4599    97.29626   96.19199   98.05673 ]\n",
            " [ 89.93819   95.10378   96.48717  104.84298   94.73771  100.52778\n",
            "  101.34916   97.15667   94.29912   96.35156   96.97321   98.05673 ]\n",
            " [ 89.93819   91.1083    95.27497  103.149925  95.10335  101.69018\n",
            "  102.412834  97.864815  94.4599   100.12458   96.19199   96.79588 ]\n",
            " [ 86.41722   93.08328   96.48717  105.225235  95.10335  100.52778\n",
            "  102.412834  97.864815  94.29912   93.610115  96.97321   96.94305 ]\n",
            " [ 89.93819   91.1083    95.27497  106.49817  101.772026 101.81719\n",
            "  100.7445    97.15667   94.4599    95.49376   96.19199   96.79588 ]\n",
            " [ 89.93819   91.1083    96.48717  104.42286  101.772026 101.81719\n",
            "  100.475655  97.15667   96.3447    92.66543   96.19199   96.94305 ]\n",
            " [ 89.93819   95.10378   97.277176 103.570045 100.8261   101.81719\n",
            "  101.34916   97.15667   96.3447    95.49376   96.97321   96.79588 ]\n",
            " [ 89.93819   95.10378   95.27497  104.42286   96.188576 102.97959\n",
            "  101.34916   97.864815  96.50548   96.438446  96.97321   96.79588 ]\n",
            " [ 89.93819   93.08328   96.48717  104.42286   95.10335  104.16322\n",
            "  100.7445    97.15667   96.50548   92.66543   95.99824   96.94305 ]\n",
            " [ 89.93819   91.1083    96.48717  104.42286   95.10335  103.0008\n",
            "  100.475655  97.864815  96.50548   93.610115  95.217026  96.94305 ]\n",
            " [ 89.93819   93.1288    96.48717  104.84298   96.188576 101.71139\n",
            "  101.34916   97.15667   94.29912   92.66543   95.99824   96.94305 ]\n",
            " [ 89.93819   91.1083    98.54786  103.149925  95.10335  104.16322\n",
            "  102.412834  97.864815  94.4599    96.438446  95.217026  96.79588 ]\n",
            " [ 89.93819   91.1083    96.48717  103.149925  95.10335  100.52778\n",
            "  102.412834  97.864815  96.3447    93.610115  96.97321   96.94305 ]\n",
            " [ 89.93819   93.18938   95.27497  104.42286   95.10335  100.52778\n",
            "  100.7445    97.15667   94.4599    95.49376   96.19199   96.79588 ]\n",
            " [ 89.93819   93.18938   96.48717  104.42286   95.10335  100.52778\n",
            "  100.475655  97.15667   94.29912   92.66543   96.19199   96.94305 ]\n",
            " [ 89.93819   95.20988   98.54786  103.570045  96.188576 101.71139\n",
            "  101.34916   97.15667   94.29912   95.49376   95.99824   96.79588 ]\n",
            " [ 89.93819   95.20988   95.27497  104.42286   96.188576 102.97959\n",
            "  101.34916   97.864815  94.4599    96.438446  96.97321   98.711586]\n",
            " [ 93.54251   99.72571   99.76005  104.42286   95.10335  101.69018\n",
            "  100.7445    96.8559    96.50548   92.66543   96.97321   96.94305 ]\n",
            " [ 94.872505  99.72571  104.08253  104.42286   95.10335  100.52778\n",
            "  100.475655  97.56405   94.4599    94.479515  96.19199   96.94305 ]\n",
            " [ 94.872505  99.66513  104.08253  104.84298   96.188576 100.52778\n",
            "  101.34916   96.8559    94.29912   93.53483   96.97321   96.94305 ]]\n",
            "\n",
            "Prediction Shape- (44, 12)\n"
          ]
        }
      ],
      "source": [
        "print(\"prediction\\n\", prediction)\n",
        "print(\"\\nPrediction Shape-\",prediction.shape)"
      ]
    },
    {
      "cell_type": "code",
      "execution_count": null,
      "metadata": {
        "scrolled": true,
        "colab": {
          "base_uri": "https://localhost:8080/"
        },
        "id": "m_EmtKlgopAG",
        "outputId": "f4c6068c-a79b-45c4-d7e2-2308d55de476"
      },
      "outputs": [
        {
          "output_type": "stream",
          "name": "stdout",
          "text": [
            "Pred Values--  [[102.20327   98.874794 101.87634  101.60586   98.37188   98.89647\n",
            "   96.10541   93.40691   91.80899  105.31228   99.67782   99.20921 ]\n",
            " [102.20327   98.874794 102.870346 100.859566  96.89611  101.12459\n",
            "   96.10541   92.69877   97.38901  103.74562   98.89661   97.94837 ]\n",
            " [102.20327  101.65053  104.08253   99.23299   98.34698  101.12459\n",
            "   94.16822   95.372086  94.29912  100.91728   96.19199   99.20921 ]\n",
            " [ 98.90736   99.66513  102.870346  98.380165  96.89611  102.31897\n",
            "  102.25996   96.82294   94.29912  103.74562   96.97321   97.94837 ]\n",
            " [102.20327   96.8894   102.870346  99.23299   93.67405  109.150505\n",
            "  100.32233   96.82294   97.13415   94.853745  98.56125   97.94837 ]\n",
            " [ 94.872505  99.72571  104.08253  101.3083    95.10335  107.38505\n",
            "  105.809204 103.52658  101.1947    96.07244   98.56125   98.05673 ]\n",
            " [ 94.872505  99.61961   99.76005  102.849205 101.772026 104.39724\n",
            "  105.756226 100.853264  98.70455   93.083824  97.78003   93.02816 ]\n",
            " [ 91.26818   95.10378   99.76005  101.194016 102.85726  105.56589\n",
            "  103.83475   99.402405  98.54378   92.13914   94.4382    93.02816 ]\n",
            " [ 97.57736  102.64598  102.870346 102.40048   95.10335  103.59044\n",
            "  103.01421  100.853264  96.471794  91.21758   93.65698   91.76731 ]\n",
            " [ 98.90736   99.87025  104.08253  102.40048   93.65248  101.25939\n",
            "  103.01421  100.11055   96.31102   86.80454   94.4382    93.02816 ]\n",
            " [ 98.90736  101.90116  102.870346 105.96377   92.223175  98.26546\n",
            "  103.01421   95.24527   93.79754   88.68819   92.068954  94.54943 ]\n",
            " [ 98.90736  104.67688  104.08253  105.96377   92.223175  98.26546\n",
            "   98.59144   91.26051   93.636765  85.859856  94.77357   94.18064 ]\n",
            " [ 98.90736  101.640114 102.870346  98.380165  94.73771   98.89647\n",
            "   99.46495   92.69877   91.80899   93.90906   95.55478   97.94837 ]\n",
            " [ 98.90736  101.89075  102.870346  99.23299   94.73771   98.29343\n",
            "   99.46495   97.56405   91.969765 100.12458   99.67782   96.79588 ]\n",
            " [ 91.26818   93.08328   99.76005   99.23299   93.65248  101.71592\n",
            "  100.7445    96.8559    91.969765  96.35156   99.67782   98.05673 ]\n",
            " [ 92.19461   99.61961  104.08253   99.23299   93.65248  102.02532\n",
            "  102.961235  97.56405   97.13415   97.29626   98.89661   98.05673 ]\n",
            " [ 94.872505  95.10378   99.76005  103.354996  94.73771  102.42804\n",
            "  103.83475   99.402405 101.03392   96.35156   99.67782   98.05673 ]\n",
            " [ 94.872505  99.23947  102.870346 104.47579  101.772026 101.059166\n",
            "  104.89841  100.11055   98.70455   99.5983    97.78003   91.76731 ]\n",
            " [ 94.872505  93.08328   99.76005  108.03908  101.772026  99.89677\n",
            "  104.89841  100.11055   95.86953   96.769966  92.850174  93.02816 ]\n",
            " [ 94.872505  93.08328   98.54786  108.03908  101.772026  99.89677\n",
            "  100.7445    95.417656  96.030304  97.331154  92.068954  93.39695 ]\n",
            " [ 94.872505  99.61961   99.76005  104.42286  100.32116  100.52778\n",
            "  100.475655  96.8559    91.80899   92.66543   92.068954  98.05673 ]\n",
            " [ 94.872505 101.640114  98.54786  105.645355  99.37524  100.52778\n",
            "  101.34916   96.8559    91.80899   95.49376   96.97321   96.79588 ]\n",
            " [ 94.872505  98.86438  102.870346 104.42286  101.40639   99.46206\n",
            "  101.34916   97.56405   91.969765  96.438446  99.67782   96.79588 ]\n",
            " [ 91.26818   93.08328   99.76005  104.42286   93.65248  101.69018\n",
            "  100.7445    96.8559    94.4599    92.66543   99.67782   98.05673 ]\n",
            " [ 89.93819   91.1083    96.48717  104.42286   93.65248  100.52778\n",
            "  100.475655  97.864815  94.4599    97.29626   96.19199   98.05673 ]\n",
            " [ 89.93819   95.10378   96.48717  104.84298   94.73771  100.52778\n",
            "  101.34916   97.15667   94.29912   96.35156   96.97321   98.05673 ]\n",
            " [ 89.93819   91.1083    95.27497  103.149925  95.10335  101.69018\n",
            "  102.412834  97.864815  94.4599   100.12458   96.19199   96.79588 ]\n",
            " [ 86.41722   93.08328   96.48717  105.225235  95.10335  100.52778\n",
            "  102.412834  97.864815  94.29912   93.610115  96.97321   96.94305 ]\n",
            " [ 89.93819   91.1083    95.27497  106.49817  101.772026 101.81719\n",
            "  100.7445    97.15667   94.4599    95.49376   96.19199   96.79588 ]\n",
            " [ 89.93819   91.1083    96.48717  104.42286  101.772026 101.81719\n",
            "  100.475655  97.15667   96.3447    92.66543   96.19199   96.94305 ]\n",
            " [ 89.93819   95.10378   97.277176 103.570045 100.8261   101.81719\n",
            "  101.34916   97.15667   96.3447    95.49376   96.97321   96.79588 ]\n",
            " [ 89.93819   95.10378   95.27497  104.42286   96.188576 102.97959\n",
            "  101.34916   97.864815  96.50548   96.438446  96.97321   96.79588 ]\n",
            " [ 89.93819   93.08328   96.48717  104.42286   95.10335  104.16322\n",
            "  100.7445    97.15667   96.50548   92.66543   95.99824   96.94305 ]\n",
            " [ 89.93819   91.1083    96.48717  104.42286   95.10335  103.0008\n",
            "  100.475655  97.864815  96.50548   93.610115  95.217026  96.94305 ]\n",
            " [ 89.93819   93.1288    96.48717  104.84298   96.188576 101.71139\n",
            "  101.34916   97.15667   94.29912   92.66543   95.99824   96.94305 ]\n",
            " [ 89.93819   91.1083    98.54786  103.149925  95.10335  104.16322\n",
            "  102.412834  97.864815  94.4599    96.438446  95.217026  96.79588 ]\n",
            " [ 89.93819   91.1083    96.48717  103.149925  95.10335  100.52778\n",
            "  102.412834  97.864815  96.3447    93.610115  96.97321   96.94305 ]\n",
            " [ 89.93819   93.18938   95.27497  104.42286   95.10335  100.52778\n",
            "  100.7445    97.15667   94.4599    95.49376   96.19199   96.79588 ]\n",
            " [ 89.93819   93.18938   96.48717  104.42286   95.10335  100.52778\n",
            "  100.475655  97.15667   94.29912   92.66543   96.19199   96.94305 ]\n",
            " [ 89.93819   95.20988   98.54786  103.570045  96.188576 101.71139\n",
            "  101.34916   97.15667   94.29912   95.49376   95.99824   96.79588 ]\n",
            " [ 89.93819   95.20988   95.27497  104.42286   96.188576 102.97959\n",
            "  101.34916   97.864815  94.4599    96.438446  96.97321   98.711586]\n",
            " [ 93.54251   99.72571   99.76005  104.42286   95.10335  101.69018\n",
            "  100.7445    96.8559    96.50548   92.66543   96.97321   96.94305 ]\n",
            " [ 94.872505  99.72571  104.08253  104.42286   95.10335  100.52778\n",
            "  100.475655  97.56405   94.4599    94.479515  96.19199   96.94305 ]\n",
            " [ 94.872505  99.66513  104.08253  104.84298   96.188576 100.52778\n",
            "  101.34916   96.8559    94.29912   93.53483   96.97321   96.94305 ]]\n",
            "Original Values--  [[102.61039  102.849495 102.246758  98.112251 100.005157  95.626572\n",
            "   92.981483  91.083595  96.438522  96.986473  98.545624  98.884354]\n",
            " [102.849495 102.246758  98.112251 100.005157  95.626572  92.981483\n",
            "   91.083595  96.438522  96.986473  98.545624  98.884354  97.88311 ]\n",
            " [102.246758  98.112251 100.005157  95.626572  92.981483  91.083595\n",
            "   96.438522  96.986473  98.545624  98.884354  97.88311   96.289085]\n",
            " [ 98.112251 100.005157  95.626572  92.981483  91.083595  96.438522\n",
            "   96.986473  98.545624  98.884354  97.88311   96.289085  91.342628]\n",
            " [100.005157  95.626572  92.981483  91.083595  96.438522  96.986473\n",
            "   98.545624  98.884354  97.88311   96.289085  91.342628  94.221832]\n",
            " [ 95.626572  92.981483  91.083595  96.438522  96.986473  98.545624\n",
            "   98.884354  97.88311   96.289085  91.342628  94.221832  92.652718]\n",
            " [ 92.981483  91.083595  96.438522  96.986473  98.545624  98.884354\n",
            "   97.88311   96.289085  91.342628  94.221832  92.652718  94.291573]\n",
            " [ 91.083595  96.438522  96.986473  98.545624  98.884354  97.88311\n",
            "   96.289085  91.342628  94.221832  92.652718  94.291573  92.627808]\n",
            " [ 96.438522  96.986473  98.545624  98.884354  97.88311   96.289085\n",
            "   91.342628  94.221832  92.652718  94.291573  92.627808  92.717468]\n",
            " [ 96.986473  98.545624  98.884354  97.88311   96.289085  91.342628\n",
            "   94.221832  92.652718  94.291573  92.627808  92.717468  93.001411]\n",
            " [ 98.545624  98.884354  97.88311   96.289085  91.342628  94.221832\n",
            "   92.652718  94.291573  92.627808  92.717468  93.001411  93.539391]\n",
            " [ 98.884354  97.88311   96.289085  91.342628  94.221832  92.652718\n",
            "   94.291573  92.627808  92.717468  93.001411  93.539391  94.19693 ]\n",
            " [ 97.88311   96.289085  91.342628  94.221832  92.652718  94.291573\n",
            "   92.627808  92.717468  93.001411  93.539391  94.19693   91.761055]\n",
            " [ 96.289085  91.342628  94.221832  92.652718  94.291573  92.627808\n",
            "   92.717468  93.001411  93.539391  94.19693   91.761055  90.16703 ]\n",
            " [ 91.342628  94.221832  92.652718  94.291573  92.627808  92.717468\n",
            "   93.001411  93.539391  94.19693   91.761055  90.16703   89.883095]\n",
            " [ 94.221832  92.652718  94.291573  92.627808  92.717468  93.001411\n",
            "   93.539391  94.19693   91.761055  90.16703   89.883095  88.832039]\n",
            " [ 92.652718  94.291573  92.627808  92.717468  93.001411  93.539391\n",
            "   94.19693   91.761055  90.16703   89.883095  88.832039  87.322693]\n",
            " [ 94.291573  92.627808  92.717468  93.001411  93.539391  94.19693\n",
            "   91.761055  90.16703   89.883095  88.832039  87.322693  88.020081]\n",
            " [ 92.627808  92.717468  93.001411  93.539391  94.19693   91.761055\n",
            "   90.16703   89.883095  88.832039  87.322693  88.020081  88.234276]\n",
            " [ 92.717468  93.001411  93.539391  94.19693   91.761055  90.16703\n",
            "   89.883095  88.832039  87.322693  88.020081  88.234276  89.071136]\n",
            " [ 93.001411  93.539391  94.19693   91.761055  90.16703   89.883095\n",
            "   88.832039  87.322693  88.020081  88.234276  89.071136  89.300278]\n",
            " [ 93.539391  94.19693   91.761055  90.16703   89.883095  88.832039\n",
            "   87.322693  88.020081  88.234276  89.071136  89.300278  90.251717]\n",
            " [ 94.19693   91.761055  90.16703   89.883095  88.832039  87.322693\n",
            "   88.020081  88.234276  89.071136  89.300278  90.251717  88.65271 ]\n",
            " [ 91.761055  90.16703   89.883095  88.832039  87.322693  88.020081\n",
            "   88.234276  89.071136  89.300278  90.251717  88.65271   90.012611]\n",
            " [ 90.16703   89.883095  88.832039  87.322693  88.020081  88.234276\n",
            "   89.071136  89.300278  90.251717  88.65271   90.012611  90.500778]\n",
            " [ 89.883095  88.832039  87.322693  88.020081  88.234276  89.071136\n",
            "   89.300278  90.251717  88.65271   90.012611  90.500778  90.186958]\n",
            " [ 88.832039  87.322693  88.020081  88.234276  89.071136  89.300278\n",
            "   90.251717  88.65271   90.012611  90.500778  90.186958  89.982719]\n",
            " [ 87.322693  88.020081  88.234276  89.071136  89.300278  90.251717\n",
            "   88.65271   90.012611  90.500778  90.186958  89.982719  88.642746]\n",
            " [ 88.020081  88.234276  89.071136  89.300278  90.251717  88.65271\n",
            "   90.012611  90.500778  90.186958  89.982719  88.642746  90.540634]\n",
            " [ 88.234276  89.071136  89.300278  90.251717  88.65271   90.012611\n",
            "   90.500778  90.186958  89.982719  88.642746  90.540634  89.639008]\n",
            " [ 89.071136  89.300278  90.251717  88.65271   90.012611  90.500778\n",
            "   90.186958  89.982719  88.642746  90.540634  89.639008  93.514488]\n",
            " [ 89.300278  90.251717  88.65271   90.012611  90.500778  90.186958\n",
            "   89.982719  88.642746  90.540634  89.639008  93.514488  94.266663]\n",
            " [ 90.251717  88.65271   90.012611  90.500778  90.186958  89.982719\n",
            "   88.642746  90.540634  89.639008  93.514488  94.266663  94.037521]\n",
            " [ 88.65271   90.012611  90.500778  90.186958  89.982719  88.642746\n",
            "   90.540634  89.639008  93.514488  94.266663  94.037521  96.48336 ]\n",
            " [ 90.012611  90.500778  90.186958  89.982719  88.642746  90.540634\n",
            "   89.639008  93.514488  94.266663  94.037521  96.48336   96.184479]\n",
            " [ 90.500778  90.186958  89.982719  88.642746  90.540634  89.639008\n",
            "   93.514488  94.266663  94.037521  96.48336   96.184479  96.139648]\n",
            " [ 90.186958  89.982719  88.642746  90.540634  89.639008  93.514488\n",
            "   94.266663  94.037521  96.48336   96.184479  96.139648  96.373764]\n",
            " [ 89.982719  88.642746  90.540634  89.639008  93.514488  94.266663\n",
            "   94.037521  96.48336   96.184479  96.139648  96.373764  96.274139]\n",
            " [ 88.642746  90.540634  89.639008  93.514488  94.266663  94.037521\n",
            "   96.48336   96.184479  96.139648  96.373764  96.274139  94.695061]\n",
            " [ 90.540634  89.639008  93.514488  94.266663  94.037521  96.48336\n",
            "   96.184479  96.139648  96.373764  96.274139  94.695061  91.945366]\n",
            " [ 89.639008  93.514488  94.266663  94.037521  96.48336   96.184479\n",
            "   96.139648  96.373764  96.274139  94.695061  91.945366  94.311501]\n",
            " [ 93.514488  94.266663  94.037521  96.48336   96.184479  96.139648\n",
            "   96.373764  96.274139  94.695061  91.945366  94.311501  98.919228]\n",
            " [ 94.266663  94.037521  96.48336   96.184479  96.139648  96.373764\n",
            "   96.274139  94.695061  91.945366  94.311501  98.919228  99.835793]\n",
            " [ 94.037521  96.48336   96.184479  96.139648  96.373764  96.274139\n",
            "   94.695061  91.945366  94.311501  98.919228  99.835793 111.033821]]\n"
          ]
        }
      ],
      "source": [
        "print(\"Pred Values-- \" ,prediction)\n",
        "print(\"Original Values-- \",testY)\n"
      ]
    },
    {
      "cell_type": "markdown",
      "source": [],
      "metadata": {
        "id": "HhN_DLDQhK7R"
      }
    },
    {
      "cell_type": "markdown",
      "source": [
        "## plots comparing testY and predictions\n"
      ],
      "metadata": {
        "id": "LlbiXxabf9_g"
      }
    },
    {
      "cell_type": "code",
      "execution_count": null,
      "metadata": {
        "scrolled": true,
        "colab": {
          "base_uri": "https://localhost:8080/",
          "height": 404
        },
        "id": "0aCFbE7IopAH",
        "outputId": "56d58431-85c8-439d-eb37-df38195c0887"
      },
      "outputs": [
        {
          "output_type": "display_data",
          "data": {
            "text/plain": [
              "<Figure size 864x432 with 1 Axes>"
            ],
            "image/png": "[encoded data removed]"
          },
          "metadata": {
            "needs_background": "light"
          }
        }
      ],
      "source": [
        "#plt.xlim([100,500])\n",
        "plt.figure(figsize=(12, 6))\n",
        "plt.plot(prediction[0], color = 'red', label = 'Predicted Expenditure',marker=\"s\")\n",
        "plt.plot(testY[0], color = 'blue', label = 'Real Expenditure',marker=\"s\")\n",
        "plt.title(' Expenditure forecasting')\n",
        "plt.xlabel('Next Time step')\n",
        "plt.ylabel('Expenditure (in lakhs)')\n",
        "plt.legend()\n",
        "plt.show()"
      ]
    },
    {
      "cell_type": "markdown",
      "source": [
        "## Model performance"
      ],
      "metadata": {
        "id": "-QrsgKG9zXsK"
      }
    },
    {
      "cell_type": "code",
      "execution_count": null,
      "metadata": {
        "scrolled": true,
        "colab": {
          "base_uri": "https://localhost:8080/"
        },
        "id": "-0dTnd-RopAW",
        "outputId": "2c66bb34-9ce9-4c72-b2df-99c5ad928d6b"
      },
      "outputs": [
        {
          "output_type": "execute_result",
          "data": {
            "text/plain": [
              "47.35737746150766"
            ]
          },
          "metadata": {},
          "execution_count": 462
        }
      ],
      "source": [
        "from sklearn.metrics import mean_squared_error\n",
        "#from statsmodels.tools.eval_measures import rmse\n",
        "  \n",
        "# Calculate root mean squared error\n",
        "mean_squared_error(prediction, testY)"
      ]
    }
  ]
}