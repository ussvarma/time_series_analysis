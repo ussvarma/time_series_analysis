{
  "nbformat": 4,
  "nbformat_minor": 0,
  "metadata": {
    "colab": {
      "provenance": [],
      "collapsed_sections": [],
      "authorship_tag": "ABX9TyNWxOBFOQP/mE8r8TsFpSxP",
      "include_colab_link": true
    },
    "kernelspec": {
      "name": "python3",
      "display_name": "Python 3"
    },
    "language_info": {
      "name": "python"
    }
  },
  "cells": [
    {
      "cell_type": "markdown",
      "metadata": {
        "id": "view-in-github",
        "colab_type": "text"
      },
      "source": [
        "<a href=\"https://colab.research.google.com/github/ussvarma/time_series_analysis/blob/main/Model_2_Company's_expenditure_forecasting_model_2.ipynb\" target=\"_parent\"><img src=\"https://colab.research.google.com/assets/colab-badge.svg\" alt=\"Open In Colab\"/></a>"
      ]
    },
    {
      "cell_type": "markdown",
      "source": [
        "# Problem statement:\n",
        "Title - Forecast next 12 month spend based on past spend data\n",
        "\n",
        "You need to create a system to forecast the spend of a company based on the past historical data of the last 24 months on a monthly scale.\n",
        "\n",
        "First you need to identify the various spends a company does, you can take an example of any base company and identify the various spends a company does in a complete year, and create some fictional spend numbers of that company as training data.\n",
        "\n",
        "After that you need to identify various features you will consider to train your model, to predict or forecast the spending company would do in the next 12 months.\n",
        "\n",
        "You need to think through the approach you will take, the features you will identify and the algorithm you will use to achieve this. For the ML model training you can create fictional data and perform the training."
      ],
      "metadata": {
        "id": "t17MfQw7hOFw"
      }
    },
    {
      "cell_type": "markdown",
      "source": [
        "# XGBoost model for single output (1 month)\n",
        "\n"
      ],
      "metadata": {
        "id": "cR6zsKXsmFd8"
      }
    },
    {
      "cell_type": "markdown",
      "source": [
        "## Importing libraries\n"
      ],
      "metadata": {
        "id": "Y77arujEIrZd"
      }
    },
    {
      "cell_type": "code",
      "execution_count": null,
      "metadata": {
        "id": "FyDGLok7oo_L"
      },
      "outputs": [],
      "source": [
        "import numpy as np\n",
        "import pandas as pd\n",
        "from matplotlib import pyplot as plt\n",
        "from tensorflow.keras.models import Sequential\n",
        "from tensorflow.keras.callbacks import EarlyStopping\n",
        "from tensorflow.keras.layers import LSTM,GRU\n",
        "from tensorflow.keras.layers import Dense, Dropout\n",
        "from sklearn.preprocessing import StandardScaler\n",
        "from tensorflow.keras.wrappers.scikit_learn import KerasRegressor\n",
        "from sklearn.model_selection import GridSearchCV\n",
        "import seaborn as sns\n",
        "import xgboost as xgb\n",
        "import warnings\n",
        "warnings.filterwarnings(\"ignore\")"
      ]
    },
    {
      "cell_type": "markdown",
      "source": [
        "## Reading dataset \n"
      ],
      "metadata": {
        "id": "SftP6HJoaUyU"
      }
    },
    {
      "cell_type": "code",
      "execution_count": null,
      "metadata": {
        "id": "RZmtN6H2oo_S"
      },
      "outputs": [],
      "source": [
        "df=pd.read_csv(\"expenditure_200.csv\")\n",
        "df[\"Date\"]= pd.to_datetime(df[\"Date\"])  ## Converting Date column's datatype into Datetime object\n",
        "df=df[:-30]"
      ]
    },
    {
      "cell_type": "code",
      "source": [
        "df.head()"
      ],
      "metadata": {
        "colab": {
          "base_uri": "https://localhost:8080/",
          "height": 424
        },
        "id": "DDzC5XTxaML-",
        "outputId": "a7ed182e-ca00-4bf7-fb4c-6418ab9af156"
      },
      "execution_count": null,
      "outputs": [
        {
          "output_type": "execute_result",
          "data": {
            "text/plain": [
              "        Date  Company Id  Expenditure(In lakhs)  Profit (In lakhs)  \\\n",
              "0 2005-12-01           1              49.813290            68.6616   \n",
              "1 2006-01-01           1              50.316402            69.7872   \n",
              "2 2006-02-01           1              55.168217            69.7872   \n",
              "3 2006-03-01           1              55.412300            73.1640   \n",
              "4 2006-04-01           1              52.284027            73.1640   \n",
              "\n",
              "   Employee salary and benefits (In lakhs)  liabilities (In lakhs)  \\\n",
              "0                                     4.05                0.056146   \n",
              "1                                     4.05                0.125139   \n",
              "2                                     4.05                0.146133   \n",
              "3                                     4.05                0.150954   \n",
              "4                                     4.05                0.156165   \n",
              "\n",
              "   R and D expenses (In lakhs)  CSR (In lakhs)  Employees   Location  \\\n",
              "0                       1.0867        0.411013         10     mumbai   \n",
              "1                       1.0867        0.411572         10  bangalore   \n",
              "2                       1.0867        0.413629         10  hyderabad   \n",
              "3                       1.0867        0.414765         10     mumbai   \n",
              "4                       1.0867        0.416054         10  bangalore   \n",
              "\n",
              "   Taxes (In lakhs)  \n",
              "0          5.654493  \n",
              "1          5.841239  \n",
              "2          4.385695  \n",
              "3          5.325510  \n",
              "4          6.263992  "
            ],
            "text/html": [
              "\n",
              "  <div id=\"df-a00a6cc6-1a64-4b88-8ed4-9a540b461462\">\n",
              "    <div class=\"colab-df-container\">\n",
              "      <div>\n",
              "<style scoped>\n",
              "    .dataframe tbody tr th:only-of-type {\n",
              "        vertical-align: middle;\n",
              "    }\n",
              "\n",
              "    .dataframe tbody tr th {\n",
              "        vertical-align: top;\n",
              "    }\n",
              "\n",
              "    .dataframe thead th {\n",
              "        text-align: right;\n",
              "    }\n",
              "</style>\n",
              "<table border=\"1\" class=\"dataframe\">\n",
              "  <thead>\n",
              "    <tr style=\"text-align: right;\">\n",
              "      <th></th>\n",
              "      <th>Date</th>\n",
              "      <th>Company Id</th>\n",
              "      <th>Expenditure(In lakhs)</th>\n",
              "      <th>Profit (In lakhs)</th>\n",
              "      <th>Employee salary and benefits (In lakhs)</th>\n",
              "      <th>liabilities (In lakhs)</th>\n",
              "      <th>R and D expenses (In lakhs)</th>\n",
              "      <th>CSR (In lakhs)</th>\n",
              "      <th>Employees</th>\n",
              "      <th>Location</th>\n",
              "      <th>Taxes (In lakhs)</th>\n",
              "    </tr>\n",
              "  </thead>\n",
              "  <tbody>\n",
              "    <tr>\n",
              "      <th>0</th>\n",
              "      <td>2005-12-01</td>\n",
              "      <td>1</td>\n",
              "      <td>49.813290</td>\n",
              "      <td>68.6616</td>\n",
              "      <td>4.05</td>\n",
              "      <td>0.056146</td>\n",
              "      <td>1.0867</td>\n",
              "      <td>0.411013</td>\n",
              "      <td>10</td>\n",
              "      <td>mumbai</td>\n",
              "      <td>5.654493</td>\n",
              "    </tr>\n",
              "    <tr>\n",
              "      <th>1</th>\n",
              "      <td>2006-01-01</td>\n",
              "      <td>1</td>\n",
              "      <td>50.316402</td>\n",
              "      <td>69.7872</td>\n",
              "      <td>4.05</td>\n",
              "      <td>0.125139</td>\n",
              "      <td>1.0867</td>\n",
              "      <td>0.411572</td>\n",
              "      <td>10</td>\n",
              "      <td>bangalore</td>\n",
              "      <td>5.841239</td>\n",
              "    </tr>\n",
              "    <tr>\n",
              "      <th>2</th>\n",
              "      <td>2006-02-01</td>\n",
              "      <td>1</td>\n",
              "      <td>55.168217</td>\n",
              "      <td>69.7872</td>\n",
              "      <td>4.05</td>\n",
              "      <td>0.146133</td>\n",
              "      <td>1.0867</td>\n",
              "      <td>0.413629</td>\n",
              "      <td>10</td>\n",
              "      <td>hyderabad</td>\n",
              "      <td>4.385695</td>\n",
              "    </tr>\n",
              "    <tr>\n",
              "      <th>3</th>\n",
              "      <td>2006-03-01</td>\n",
              "      <td>1</td>\n",
              "      <td>55.412300</td>\n",
              "      <td>73.1640</td>\n",
              "      <td>4.05</td>\n",
              "      <td>0.150954</td>\n",
              "      <td>1.0867</td>\n",
              "      <td>0.414765</td>\n",
              "      <td>10</td>\n",
              "      <td>mumbai</td>\n",
              "      <td>5.325510</td>\n",
              "    </tr>\n",
              "    <tr>\n",
              "      <th>4</th>\n",
              "      <td>2006-04-01</td>\n",
              "      <td>1</td>\n",
              "      <td>52.284027</td>\n",
              "      <td>73.1640</td>\n",
              "      <td>4.05</td>\n",
              "      <td>0.156165</td>\n",
              "      <td>1.0867</td>\n",
              "      <td>0.416054</td>\n",
              "      <td>10</td>\n",
              "      <td>bangalore</td>\n",
              "      <td>6.263992</td>\n",
              "    </tr>\n",
              "  </tbody>\n",
              "</table>\n",
              "</div>\n",
              "      <button class=\"colab-df-convert\" onclick=\"convertToInteractive('df-a00a6cc6-1a64-4b88-8ed4-9a540b461462')\"\n",
              "              title=\"Convert this dataframe to an interactive table.\"\n",
              "              style=\"display:none;\">\n",
              "        \n",
              "  <svg xmlns=\"http://www.w3.org/2000/svg\" height=\"24px\"viewBox=\"0 0 24 24\"\n",
              "       width=\"24px\">\n",
              "    <path d=\"M0 0h24v24H0V0z\" fill=\"none\"/>\n",
              "    <path d=\"M18.56 5.44l.94 2.06.94-2.06 2.06-.94-2.06-.94-.94-2.06-.94 2.06-2.06.94zm-11 1L8.5 8.5l.94-2.06 2.06-.94-2.06-.94L8.5 2.5l-.94 2.06-2.06.94zm10 10l.94 2.06.94-2.06 2.06-.94-2.06-.94-.94-2.06-.94 2.06-2.06.94z\"/><path d=\"M17.41 7.96l-1.37-1.37c-.4-.4-.92-.59-1.43-.59-.52 0-1.04.2-1.43.59L10.3 9.45l-7.72 7.72c-.78.78-.78 2.05 0 2.83L4 21.41c.39.39.9.59 1.41.59.51 0 1.02-.2 1.41-.59l7.78-7.78 2.81-2.81c.8-.78.8-2.07 0-2.86zM5.41 20L4 18.59l7.72-7.72 1.47 1.35L5.41 20z\"/>\n",
              "  </svg>\n",
              "      </button>\n",
              "      \n",
              "  <style>\n",
              "    .colab-df-container {\n",
              "      display:flex;\n",
              "      flex-wrap:wrap;\n",
              "      gap: 12px;\n",
              "    }\n",
              "\n",
              "    .colab-df-convert {\n",
              "      background-color: #E8F0FE;\n",
              "      border: none;\n",
              "      border-radius: 50%;\n",
              "      cursor: pointer;\n",
              "      display: none;\n",
              "      fill: #1967D2;\n",
              "      height: 32px;\n",
              "      padding: 0 0 0 0;\n",
              "      width: 32px;\n",
              "    }\n",
              "\n",
              "    .colab-df-convert:hover {\n",
              "      background-color: #E2EBFA;\n",
              "      box-shadow: 0px 1px 2px rgba(60, 64, 67, 0.3), 0px 1px 3px 1px rgba(60, 64, 67, 0.15);\n",
              "      fill: #174EA6;\n",
              "    }\n",
              "\n",
              "    [theme=dark] .colab-df-convert {\n",
              "      background-color: #3B4455;\n",
              "      fill: #D2E3FC;\n",
              "    }\n",
              "\n",
              "    [theme=dark] .colab-df-convert:hover {\n",
              "      background-color: #434B5C;\n",
              "      box-shadow: 0px 1px 3px 1px rgba(0, 0, 0, 0.15);\n",
              "      filter: drop-shadow(0px 1px 2px rgba(0, 0, 0, 0.3));\n",
              "      fill: #FFFFFF;\n",
              "    }\n",
              "  </style>\n",
              "\n",
              "      <script>\n",
              "        const buttonEl =\n",
              "          document.querySelector('#df-a00a6cc6-1a64-4b88-8ed4-9a540b461462 button.colab-df-convert');\n",
              "        buttonEl.style.display =\n",
              "          google.colab.kernel.accessAllowed ? 'block' : 'none';\n",
              "\n",
              "        async function convertToInteractive(key) {\n",
              "          const element = document.querySelector('#df-a00a6cc6-1a64-4b88-8ed4-9a540b461462');\n",
              "          const dataTable =\n",
              "            await google.colab.kernel.invokeFunction('convertToInteractive',\n",
              "                                                     [key], {});\n",
              "          if (!dataTable) return;\n",
              "\n",
              "          const docLinkHtml = 'Like what you see? Visit the ' +\n",
              "            '<a target=\"_blank\" href=https://colab.research.google.com/notebooks/data_table.ipynb>data table notebook</a>'\n",
              "            + ' to learn more about interactive tables.';\n",
              "          element.innerHTML = '';\n",
              "          dataTable['output_type'] = 'display_data';\n",
              "          await google.colab.output.renderOutput(dataTable, element);\n",
              "          const docLink = document.createElement('div');\n",
              "          docLink.innerHTML = docLinkHtml;\n",
              "          element.appendChild(docLink);\n",
              "        }\n",
              "      </script>\n",
              "    </div>\n",
              "  </div>\n",
              "  "
            ]
          },
          "metadata": {},
          "execution_count": 19
        }
      ]
    },
    {
      "cell_type": "code",
      "source": [
        "df.drop(columns=['Company Id'],inplace=True) # Dropping companyId column as it is no use"
      ],
      "metadata": {
        "id": "TKbykvJ6Wx8c"
      },
      "execution_count": null,
      "outputs": []
    },
    {
      "cell_type": "code",
      "source": [
        "df=pd.get_dummies(df) # Converting categorical variables into numerical variables"
      ],
      "metadata": {
        "id": "EOlDo0IQYkRx"
      },
      "execution_count": null,
      "outputs": []
    },
    {
      "cell_type": "markdown",
      "source": [
        "## Data preparation \n"
      ],
      "metadata": {
        "id": "ITTEVAzSjidS"
      }
    },
    {
      "cell_type": "code",
      "source": [
        "# Adding lag features to data frame for making X variable\n",
        "for col in df.columns:\n",
        "  if col not in [\"Date\"]:\n",
        "    for i in range(1,25):\n",
        "      df[col+str(i)]=df[col].shift(+i)"
      ],
      "metadata": {
        "id": "zi-3h4SUOlmo"
      },
      "execution_count": null,
      "outputs": []
    },
    {
      "cell_type": "code",
      "source": [
        "df.head() # Dataframe after adding lag features\n"
      ],
      "metadata": {
        "colab": {
          "base_uri": "https://localhost:8080/",
          "height": 473
        },
        "id": "gY5pFtPLPLsx",
        "outputId": "373b0de1-d458-4606-b606-3aba1d93b116"
      },
      "execution_count": null,
      "outputs": [
        {
          "output_type": "execute_result",
          "data": {
            "text/plain": [
              "        Date  Expenditure(In lakhs)  Profit (In lakhs)  \\\n",
              "0 2005-12-01              49.813290            68.6616   \n",
              "1 2006-01-01              50.316402            69.7872   \n",
              "2 2006-02-01              55.168217            69.7872   \n",
              "3 2006-03-01              55.412300            73.1640   \n",
              "4 2006-04-01              52.284027            73.1640   \n",
              "\n",
              "   Employee salary and benefits (In lakhs)  liabilities (In lakhs)  \\\n",
              "0                                     4.05                0.056146   \n",
              "1                                     4.05                0.125139   \n",
              "2                                     4.05                0.146133   \n",
              "3                                     4.05                0.150954   \n",
              "4                                     4.05                0.156165   \n",
              "\n",
              "   R and D expenses (In lakhs)  CSR (In lakhs)  Employees  Taxes (In lakhs)  \\\n",
              "0                       1.0867        0.411013         10          5.654493   \n",
              "1                       1.0867        0.411572         10          5.841239   \n",
              "2                       1.0867        0.413629         10          4.385695   \n",
              "3                       1.0867        0.414765         10          5.325510   \n",
              "4                       1.0867        0.416054         10          6.263992   \n",
              "\n",
              "   Location_bangalore  ...  Location_mumbai15  Location_mumbai16  \\\n",
              "0                   0  ...                NaN                NaN   \n",
              "1                   1  ...                NaN                NaN   \n",
              "2                   0  ...                NaN                NaN   \n",
              "3                   0  ...                NaN                NaN   \n",
              "4                   1  ...                NaN                NaN   \n",
              "\n",
              "   Location_mumbai17  Location_mumbai18  Location_mumbai19  Location_mumbai20  \\\n",
              "0                NaN                NaN                NaN                NaN   \n",
              "1                NaN                NaN                NaN                NaN   \n",
              "2                NaN                NaN                NaN                NaN   \n",
              "3                NaN                NaN                NaN                NaN   \n",
              "4                NaN                NaN                NaN                NaN   \n",
              "\n",
              "   Location_mumbai21  Location_mumbai22  Location_mumbai23  Location_mumbai24  \n",
              "0                NaN                NaN                NaN                NaN  \n",
              "1                NaN                NaN                NaN                NaN  \n",
              "2                NaN                NaN                NaN                NaN  \n",
              "3                NaN                NaN                NaN                NaN  \n",
              "4                NaN                NaN                NaN                NaN  \n",
              "\n",
              "[5 rows x 276 columns]"
            ],
            "text/html": [
              "\n",
              "  <div id=\"df-79f96c1d-bff6-4e25-9d54-4a8ad104b8c7\">\n",
              "    <div class=\"colab-df-container\">\n",
              "      <div>\n",
              "<style scoped>\n",
              "    .dataframe tbody tr th:only-of-type {\n",
              "        vertical-align: middle;\n",
              "    }\n",
              "\n",
              "    .dataframe tbody tr th {\n",
              "        vertical-align: top;\n",
              "    }\n",
              "\n",
              "    .dataframe thead th {\n",
              "        text-align: right;\n",
              "    }\n",
              "</style>\n",
              "<table border=\"1\" class=\"dataframe\">\n",
              "  <thead>\n",
              "    <tr style=\"text-align: right;\">\n",
              "      <th></th>\n",
              "      <th>Date</th>\n",
              "      <th>Expenditure(In lakhs)</th>\n",
              "      <th>Profit (In lakhs)</th>\n",
              "      <th>Employee salary and benefits (In lakhs)</th>\n",
              "      <th>liabilities (In lakhs)</th>\n",
              "      <th>R and D expenses (In lakhs)</th>\n",
              "      <th>CSR (In lakhs)</th>\n",
              "      <th>Employees</th>\n",
              "      <th>Taxes (In lakhs)</th>\n",
              "      <th>Location_bangalore</th>\n",
              "      <th>...</th>\n",
              "      <th>Location_mumbai15</th>\n",
              "      <th>Location_mumbai16</th>\n",
              "      <th>Location_mumbai17</th>\n",
              "      <th>Location_mumbai18</th>\n",
              "      <th>Location_mumbai19</th>\n",
              "      <th>Location_mumbai20</th>\n",
              "      <th>Location_mumbai21</th>\n",
              "      <th>Location_mumbai22</th>\n",
              "      <th>Location_mumbai23</th>\n",
              "      <th>Location_mumbai24</th>\n",
              "    </tr>\n",
              "  </thead>\n",
              "  <tbody>\n",
              "    <tr>\n",
              "      <th>0</th>\n",
              "      <td>2005-12-01</td>\n",
              "      <td>49.813290</td>\n",
              "      <td>68.6616</td>\n",
              "      <td>4.05</td>\n",
              "      <td>0.056146</td>\n",
              "      <td>1.0867</td>\n",
              "      <td>0.411013</td>\n",
              "      <td>10</td>\n",
              "      <td>5.654493</td>\n",
              "      <td>0</td>\n",
              "      <td>...</td>\n",
              "      <td>NaN</td>\n",
              "      <td>NaN</td>\n",
              "      <td>NaN</td>\n",
              "      <td>NaN</td>\n",
              "      <td>NaN</td>\n",
              "      <td>NaN</td>\n",
              "      <td>NaN</td>\n",
              "      <td>NaN</td>\n",
              "      <td>NaN</td>\n",
              "      <td>NaN</td>\n",
              "    </tr>\n",
              "    <tr>\n",
              "      <th>1</th>\n",
              "      <td>2006-01-01</td>\n",
              "      <td>50.316402</td>\n",
              "      <td>69.7872</td>\n",
              "      <td>4.05</td>\n",
              "      <td>0.125139</td>\n",
              "      <td>1.0867</td>\n",
              "      <td>0.411572</td>\n",
              "      <td>10</td>\n",
              "      <td>5.841239</td>\n",
              "      <td>1</td>\n",
              "      <td>...</td>\n",
              "      <td>NaN</td>\n",
              "      <td>NaN</td>\n",
              "      <td>NaN</td>\n",
              "      <td>NaN</td>\n",
              "      <td>NaN</td>\n",
              "      <td>NaN</td>\n",
              "      <td>NaN</td>\n",
              "      <td>NaN</td>\n",
              "      <td>NaN</td>\n",
              "      <td>NaN</td>\n",
              "    </tr>\n",
              "    <tr>\n",
              "      <th>2</th>\n",
              "      <td>2006-02-01</td>\n",
              "      <td>55.168217</td>\n",
              "      <td>69.7872</td>\n",
              "      <td>4.05</td>\n",
              "      <td>0.146133</td>\n",
              "      <td>1.0867</td>\n",
              "      <td>0.413629</td>\n",
              "      <td>10</td>\n",
              "      <td>4.385695</td>\n",
              "      <td>0</td>\n",
              "      <td>...</td>\n",
              "      <td>NaN</td>\n",
              "      <td>NaN</td>\n",
              "      <td>NaN</td>\n",
              "      <td>NaN</td>\n",
              "      <td>NaN</td>\n",
              "      <td>NaN</td>\n",
              "      <td>NaN</td>\n",
              "      <td>NaN</td>\n",
              "      <td>NaN</td>\n",
              "      <td>NaN</td>\n",
              "    </tr>\n",
              "    <tr>\n",
              "      <th>3</th>\n",
              "      <td>2006-03-01</td>\n",
              "      <td>55.412300</td>\n",
              "      <td>73.1640</td>\n",
              "      <td>4.05</td>\n",
              "      <td>0.150954</td>\n",
              "      <td>1.0867</td>\n",
              "      <td>0.414765</td>\n",
              "      <td>10</td>\n",
              "      <td>5.325510</td>\n",
              "      <td>0</td>\n",
              "      <td>...</td>\n",
              "      <td>NaN</td>\n",
              "      <td>NaN</td>\n",
              "      <td>NaN</td>\n",
              "      <td>NaN</td>\n",
              "      <td>NaN</td>\n",
              "      <td>NaN</td>\n",
              "      <td>NaN</td>\n",
              "      <td>NaN</td>\n",
              "      <td>NaN</td>\n",
              "      <td>NaN</td>\n",
              "    </tr>\n",
              "    <tr>\n",
              "      <th>4</th>\n",
              "      <td>2006-04-01</td>\n",
              "      <td>52.284027</td>\n",
              "      <td>73.1640</td>\n",
              "      <td>4.05</td>\n",
              "      <td>0.156165</td>\n",
              "      <td>1.0867</td>\n",
              "      <td>0.416054</td>\n",
              "      <td>10</td>\n",
              "      <td>6.263992</td>\n",
              "      <td>1</td>\n",
              "      <td>...</td>\n",
              "      <td>NaN</td>\n",
              "      <td>NaN</td>\n",
              "      <td>NaN</td>\n",
              "      <td>NaN</td>\n",
              "      <td>NaN</td>\n",
              "      <td>NaN</td>\n",
              "      <td>NaN</td>\n",
              "      <td>NaN</td>\n",
              "      <td>NaN</td>\n",
              "      <td>NaN</td>\n",
              "    </tr>\n",
              "  </tbody>\n",
              "</table>\n",
              "<p>5 rows × 276 columns</p>\n",
              "</div>\n",
              "      <button class=\"colab-df-convert\" onclick=\"convertToInteractive('df-79f96c1d-bff6-4e25-9d54-4a8ad104b8c7')\"\n",
              "              title=\"Convert this dataframe to an interactive table.\"\n",
              "              style=\"display:none;\">\n",
              "        \n",
              "  <svg xmlns=\"http://www.w3.org/2000/svg\" height=\"24px\"viewBox=\"0 0 24 24\"\n",
              "       width=\"24px\">\n",
              "    <path d=\"M0 0h24v24H0V0z\" fill=\"none\"/>\n",
              "    <path d=\"M18.56 5.44l.94 2.06.94-2.06 2.06-.94-2.06-.94-.94-2.06-.94 2.06-2.06.94zm-11 1L8.5 8.5l.94-2.06 2.06-.94-2.06-.94L8.5 2.5l-.94 2.06-2.06.94zm10 10l.94 2.06.94-2.06 2.06-.94-2.06-.94-.94-2.06-.94 2.06-2.06.94z\"/><path d=\"M17.41 7.96l-1.37-1.37c-.4-.4-.92-.59-1.43-.59-.52 0-1.04.2-1.43.59L10.3 9.45l-7.72 7.72c-.78.78-.78 2.05 0 2.83L4 21.41c.39.39.9.59 1.41.59.51 0 1.02-.2 1.41-.59l7.78-7.78 2.81-2.81c.8-.78.8-2.07 0-2.86zM5.41 20L4 18.59l7.72-7.72 1.47 1.35L5.41 20z\"/>\n",
              "  </svg>\n",
              "      </button>\n",
              "      \n",
              "  <style>\n",
              "    .colab-df-container {\n",
              "      display:flex;\n",
              "      flex-wrap:wrap;\n",
              "      gap: 12px;\n",
              "    }\n",
              "\n",
              "    .colab-df-convert {\n",
              "      background-color: #E8F0FE;\n",
              "      border: none;\n",
              "      border-radius: 50%;\n",
              "      cursor: pointer;\n",
              "      display: none;\n",
              "      fill: #1967D2;\n",
              "      height: 32px;\n",
              "      padding: 0 0 0 0;\n",
              "      width: 32px;\n",
              "    }\n",
              "\n",
              "    .colab-df-convert:hover {\n",
              "      background-color: #E2EBFA;\n",
              "      box-shadow: 0px 1px 2px rgba(60, 64, 67, 0.3), 0px 1px 3px 1px rgba(60, 64, 67, 0.15);\n",
              "      fill: #174EA6;\n",
              "    }\n",
              "\n",
              "    [theme=dark] .colab-df-convert {\n",
              "      background-color: #3B4455;\n",
              "      fill: #D2E3FC;\n",
              "    }\n",
              "\n",
              "    [theme=dark] .colab-df-convert:hover {\n",
              "      background-color: #434B5C;\n",
              "      box-shadow: 0px 1px 3px 1px rgba(0, 0, 0, 0.15);\n",
              "      filter: drop-shadow(0px 1px 2px rgba(0, 0, 0, 0.3));\n",
              "      fill: #FFFFFF;\n",
              "    }\n",
              "  </style>\n",
              "\n",
              "      <script>\n",
              "        const buttonEl =\n",
              "          document.querySelector('#df-79f96c1d-bff6-4e25-9d54-4a8ad104b8c7 button.colab-df-convert');\n",
              "        buttonEl.style.display =\n",
              "          google.colab.kernel.accessAllowed ? 'block' : 'none';\n",
              "\n",
              "        async function convertToInteractive(key) {\n",
              "          const element = document.querySelector('#df-79f96c1d-bff6-4e25-9d54-4a8ad104b8c7');\n",
              "          const dataTable =\n",
              "            await google.colab.kernel.invokeFunction('convertToInteractive',\n",
              "                                                     [key], {});\n",
              "          if (!dataTable) return;\n",
              "\n",
              "          const docLinkHtml = 'Like what you see? Visit the ' +\n",
              "            '<a target=\"_blank\" href=https://colab.research.google.com/notebooks/data_table.ipynb>data table notebook</a>'\n",
              "            + ' to learn more about interactive tables.';\n",
              "          element.innerHTML = '';\n",
              "          dataTable['output_type'] = 'display_data';\n",
              "          await google.colab.output.renderOutput(dataTable, element);\n",
              "          const docLink = document.createElement('div');\n",
              "          docLink.innerHTML = docLinkHtml;\n",
              "          element.appendChild(docLink);\n",
              "        }\n",
              "      </script>\n",
              "    </div>\n",
              "  </div>\n",
              "  "
            ]
          },
          "metadata": {},
          "execution_count": 11
        }
      ]
    },
    {
      "cell_type": "code",
      "source": [
        "df.isnull().sum() # checking for null values"
      ],
      "metadata": {
        "colab": {
          "base_uri": "https://localhost:8080/"
        },
        "id": "49tK_alrWRDO",
        "outputId": "4cc21e8b-43a4-4102-e698-8cbf4c7d0a68"
      },
      "execution_count": null,
      "outputs": [
        {
          "output_type": "execute_result",
          "data": {
            "text/plain": [
              "Date                                        0\n",
              "Expenditure(In lakhs)                       0\n",
              "Profit (In lakhs)                           0\n",
              "Employee salary and benefits (In lakhs)     0\n",
              "liabilities (In lakhs)                      0\n",
              "                                           ..\n",
              "Location_mumbai20                          20\n",
              "Location_mumbai21                          21\n",
              "Location_mumbai22                          22\n",
              "Location_mumbai23                          23\n",
              "Location_mumbai24                          24\n",
              "Length: 276, dtype: int64"
            ]
          },
          "metadata": {},
          "execution_count": 12
        }
      ]
    },
    {
      "cell_type": "code",
      "source": [
        "df.dropna(inplace=True) # Dropping Nan values"
      ],
      "metadata": {
        "id": "ZzfM1grNWXi-"
      },
      "execution_count": null,
      "outputs": []
    },
    {
      "cell_type": "code",
      "execution_count": null,
      "metadata": {
        "colab": {
          "base_uri": "https://localhost:8080/",
          "height": 473
        },
        "id": "WWDRQrAGoo_V",
        "outputId": "55cf401c-20ca-4bfb-d7fd-b2011e788964"
      },
      "outputs": [
        {
          "output_type": "execute_result",
          "data": {
            "text/plain": [
              "          Date  Expenditure(In lakhs)  Profit (In lakhs)  \\\n",
              "166 2019-10-01              91.945366           208.2360   \n",
              "167 2019-11-01              94.311501           209.3616   \n",
              "168 2019-12-01              98.919228           209.3616   \n",
              "169 2020-01-01              99.835793           209.3616   \n",
              "170 2020-02-01             111.033821           210.4872   \n",
              "\n",
              "     Employee salary and benefits (In lakhs)  liabilities (In lakhs)  \\\n",
              "166                                      8.1               10.293369   \n",
              "167                                      8.1               10.324048   \n",
              "168                                      8.1               10.333790   \n",
              "169                                      8.1               10.403745   \n",
              "170                                      8.1               10.438723   \n",
              "\n",
              "     R and D expenses (In lakhs)  CSR (In lakhs)  Employees  Taxes (In lakhs)  \\\n",
              "166                       6.5202        0.444415         17         34.887190   \n",
              "167                       6.5202        0.445658         17         34.515030   \n",
              "168                       6.5202        0.447926         17         33.132712   \n",
              "169                       6.5202        0.448354         17         32.857742   \n",
              "170                       6.5202        0.453074         17         29.836014   \n",
              "\n",
              "     Location_bangalore  ...  Location_mumbai15  Location_mumbai16  \\\n",
              "166                   1  ...                0.0                0.0   \n",
              "167                   1  ...                1.0                0.0   \n",
              "168                   0  ...                0.0                1.0   \n",
              "169                   0  ...                0.0                0.0   \n",
              "170                   0  ...                0.0                0.0   \n",
              "\n",
              "     Location_mumbai17  Location_mumbai18  Location_mumbai19  \\\n",
              "166                0.0                0.0                1.0   \n",
              "167                0.0                0.0                0.0   \n",
              "168                0.0                0.0                0.0   \n",
              "169                1.0                0.0                0.0   \n",
              "170                0.0                1.0                0.0   \n",
              "\n",
              "     Location_mumbai20  Location_mumbai21  Location_mumbai22  \\\n",
              "166                0.0                0.0                0.0   \n",
              "167                1.0                0.0                0.0   \n",
              "168                0.0                1.0                0.0   \n",
              "169                0.0                0.0                1.0   \n",
              "170                0.0                0.0                0.0   \n",
              "\n",
              "     Location_mumbai23  Location_mumbai24  \n",
              "166                1.0                0.0  \n",
              "167                0.0                1.0  \n",
              "168                0.0                0.0  \n",
              "169                0.0                0.0  \n",
              "170                1.0                0.0  \n",
              "\n",
              "[5 rows x 276 columns]"
            ],
            "text/html": [
              "\n",
              "  <div id=\"df-3a544442-67f1-4f00-a32e-450cd09baed4\">\n",
              "    <div class=\"colab-df-container\">\n",
              "      <div>\n",
              "<style scoped>\n",
              "    .dataframe tbody tr th:only-of-type {\n",
              "        vertical-align: middle;\n",
              "    }\n",
              "\n",
              "    .dataframe tbody tr th {\n",
              "        vertical-align: top;\n",
              "    }\n",
              "\n",
              "    .dataframe thead th {\n",
              "        text-align: right;\n",
              "    }\n",
              "</style>\n",
              "<table border=\"1\" class=\"dataframe\">\n",
              "  <thead>\n",
              "    <tr style=\"text-align: right;\">\n",
              "      <th></th>\n",
              "      <th>Date</th>\n",
              "      <th>Expenditure(In lakhs)</th>\n",
              "      <th>Profit (In lakhs)</th>\n",
              "      <th>Employee salary and benefits (In lakhs)</th>\n",
              "      <th>liabilities (In lakhs)</th>\n",
              "      <th>R and D expenses (In lakhs)</th>\n",
              "      <th>CSR (In lakhs)</th>\n",
              "      <th>Employees</th>\n",
              "      <th>Taxes (In lakhs)</th>\n",
              "      <th>Location_bangalore</th>\n",
              "      <th>...</th>\n",
              "      <th>Location_mumbai15</th>\n",
              "      <th>Location_mumbai16</th>\n",
              "      <th>Location_mumbai17</th>\n",
              "      <th>Location_mumbai18</th>\n",
              "      <th>Location_mumbai19</th>\n",
              "      <th>Location_mumbai20</th>\n",
              "      <th>Location_mumbai21</th>\n",
              "      <th>Location_mumbai22</th>\n",
              "      <th>Location_mumbai23</th>\n",
              "      <th>Location_mumbai24</th>\n",
              "    </tr>\n",
              "  </thead>\n",
              "  <tbody>\n",
              "    <tr>\n",
              "      <th>166</th>\n",
              "      <td>2019-10-01</td>\n",
              "      <td>91.945366</td>\n",
              "      <td>208.2360</td>\n",
              "      <td>8.1</td>\n",
              "      <td>10.293369</td>\n",
              "      <td>6.5202</td>\n",
              "      <td>0.444415</td>\n",
              "      <td>17</td>\n",
              "      <td>34.887190</td>\n",
              "      <td>1</td>\n",
              "      <td>...</td>\n",
              "      <td>0.0</td>\n",
              "      <td>0.0</td>\n",
              "      <td>0.0</td>\n",
              "      <td>0.0</td>\n",
              "      <td>1.0</td>\n",
              "      <td>0.0</td>\n",
              "      <td>0.0</td>\n",
              "      <td>0.0</td>\n",
              "      <td>1.0</td>\n",
              "      <td>0.0</td>\n",
              "    </tr>\n",
              "    <tr>\n",
              "      <th>167</th>\n",
              "      <td>2019-11-01</td>\n",
              "      <td>94.311501</td>\n",
              "      <td>209.3616</td>\n",
              "      <td>8.1</td>\n",
              "      <td>10.324048</td>\n",
              "      <td>6.5202</td>\n",
              "      <td>0.445658</td>\n",
              "      <td>17</td>\n",
              "      <td>34.515030</td>\n",
              "      <td>1</td>\n",
              "      <td>...</td>\n",
              "      <td>1.0</td>\n",
              "      <td>0.0</td>\n",
              "      <td>0.0</td>\n",
              "      <td>0.0</td>\n",
              "      <td>0.0</td>\n",
              "      <td>1.0</td>\n",
              "      <td>0.0</td>\n",
              "      <td>0.0</td>\n",
              "      <td>0.0</td>\n",
              "      <td>1.0</td>\n",
              "    </tr>\n",
              "    <tr>\n",
              "      <th>168</th>\n",
              "      <td>2019-12-01</td>\n",
              "      <td>98.919228</td>\n",
              "      <td>209.3616</td>\n",
              "      <td>8.1</td>\n",
              "      <td>10.333790</td>\n",
              "      <td>6.5202</td>\n",
              "      <td>0.447926</td>\n",
              "      <td>17</td>\n",
              "      <td>33.132712</td>\n",
              "      <td>0</td>\n",
              "      <td>...</td>\n",
              "      <td>0.0</td>\n",
              "      <td>1.0</td>\n",
              "      <td>0.0</td>\n",
              "      <td>0.0</td>\n",
              "      <td>0.0</td>\n",
              "      <td>0.0</td>\n",
              "      <td>1.0</td>\n",
              "      <td>0.0</td>\n",
              "      <td>0.0</td>\n",
              "      <td>0.0</td>\n",
              "    </tr>\n",
              "    <tr>\n",
              "      <th>169</th>\n",
              "      <td>2020-01-01</td>\n",
              "      <td>99.835793</td>\n",
              "      <td>209.3616</td>\n",
              "      <td>8.1</td>\n",
              "      <td>10.403745</td>\n",
              "      <td>6.5202</td>\n",
              "      <td>0.448354</td>\n",
              "      <td>17</td>\n",
              "      <td>32.857742</td>\n",
              "      <td>0</td>\n",
              "      <td>...</td>\n",
              "      <td>0.0</td>\n",
              "      <td>0.0</td>\n",
              "      <td>1.0</td>\n",
              "      <td>0.0</td>\n",
              "      <td>0.0</td>\n",
              "      <td>0.0</td>\n",
              "      <td>0.0</td>\n",
              "      <td>1.0</td>\n",
              "      <td>0.0</td>\n",
              "      <td>0.0</td>\n",
              "    </tr>\n",
              "    <tr>\n",
              "      <th>170</th>\n",
              "      <td>2020-02-01</td>\n",
              "      <td>111.033821</td>\n",
              "      <td>210.4872</td>\n",
              "      <td>8.1</td>\n",
              "      <td>10.438723</td>\n",
              "      <td>6.5202</td>\n",
              "      <td>0.453074</td>\n",
              "      <td>17</td>\n",
              "      <td>29.836014</td>\n",
              "      <td>0</td>\n",
              "      <td>...</td>\n",
              "      <td>0.0</td>\n",
              "      <td>0.0</td>\n",
              "      <td>0.0</td>\n",
              "      <td>1.0</td>\n",
              "      <td>0.0</td>\n",
              "      <td>0.0</td>\n",
              "      <td>0.0</td>\n",
              "      <td>0.0</td>\n",
              "      <td>1.0</td>\n",
              "      <td>0.0</td>\n",
              "    </tr>\n",
              "  </tbody>\n",
              "</table>\n",
              "<p>5 rows × 276 columns</p>\n",
              "</div>\n",
              "      <button class=\"colab-df-convert\" onclick=\"convertToInteractive('df-3a544442-67f1-4f00-a32e-450cd09baed4')\"\n",
              "              title=\"Convert this dataframe to an interactive table.\"\n",
              "              style=\"display:none;\">\n",
              "        \n",
              "  <svg xmlns=\"http://www.w3.org/2000/svg\" height=\"24px\"viewBox=\"0 0 24 24\"\n",
              "       width=\"24px\">\n",
              "    <path d=\"M0 0h24v24H0V0z\" fill=\"none\"/>\n",
              "    <path d=\"M18.56 5.44l.94 2.06.94-2.06 2.06-.94-2.06-.94-.94-2.06-.94 2.06-2.06.94zm-11 1L8.5 8.5l.94-2.06 2.06-.94-2.06-.94L8.5 2.5l-.94 2.06-2.06.94zm10 10l.94 2.06.94-2.06 2.06-.94-2.06-.94-.94-2.06-.94 2.06-2.06.94z\"/><path d=\"M17.41 7.96l-1.37-1.37c-.4-.4-.92-.59-1.43-.59-.52 0-1.04.2-1.43.59L10.3 9.45l-7.72 7.72c-.78.78-.78 2.05 0 2.83L4 21.41c.39.39.9.59 1.41.59.51 0 1.02-.2 1.41-.59l7.78-7.78 2.81-2.81c.8-.78.8-2.07 0-2.86zM5.41 20L4 18.59l7.72-7.72 1.47 1.35L5.41 20z\"/>\n",
              "  </svg>\n",
              "      </button>\n",
              "      \n",
              "  <style>\n",
              "    .colab-df-container {\n",
              "      display:flex;\n",
              "      flex-wrap:wrap;\n",
              "      gap: 12px;\n",
              "    }\n",
              "\n",
              "    .colab-df-convert {\n",
              "      background-color: #E8F0FE;\n",
              "      border: none;\n",
              "      border-radius: 50%;\n",
              "      cursor: pointer;\n",
              "      display: none;\n",
              "      fill: #1967D2;\n",
              "      height: 32px;\n",
              "      padding: 0 0 0 0;\n",
              "      width: 32px;\n",
              "    }\n",
              "\n",
              "    .colab-df-convert:hover {\n",
              "      background-color: #E2EBFA;\n",
              "      box-shadow: 0px 1px 2px rgba(60, 64, 67, 0.3), 0px 1px 3px 1px rgba(60, 64, 67, 0.15);\n",
              "      fill: #174EA6;\n",
              "    }\n",
              "\n",
              "    [theme=dark] .colab-df-convert {\n",
              "      background-color: #3B4455;\n",
              "      fill: #D2E3FC;\n",
              "    }\n",
              "\n",
              "    [theme=dark] .colab-df-convert:hover {\n",
              "      background-color: #434B5C;\n",
              "      box-shadow: 0px 1px 3px 1px rgba(0, 0, 0, 0.15);\n",
              "      filter: drop-shadow(0px 1px 2px rgba(0, 0, 0, 0.3));\n",
              "      fill: #FFFFFF;\n",
              "    }\n",
              "  </style>\n",
              "\n",
              "      <script>\n",
              "        const buttonEl =\n",
              "          document.querySelector('#df-3a544442-67f1-4f00-a32e-450cd09baed4 button.colab-df-convert');\n",
              "        buttonEl.style.display =\n",
              "          google.colab.kernel.accessAllowed ? 'block' : 'none';\n",
              "\n",
              "        async function convertToInteractive(key) {\n",
              "          const element = document.querySelector('#df-3a544442-67f1-4f00-a32e-450cd09baed4');\n",
              "          const dataTable =\n",
              "            await google.colab.kernel.invokeFunction('convertToInteractive',\n",
              "                                                     [key], {});\n",
              "          if (!dataTable) return;\n",
              "\n",
              "          const docLinkHtml = 'Like what you see? Visit the ' +\n",
              "            '<a target=\"_blank\" href=https://colab.research.google.com/notebooks/data_table.ipynb>data table notebook</a>'\n",
              "            + ' to learn more about interactive tables.';\n",
              "          element.innerHTML = '';\n",
              "          dataTable['output_type'] = 'display_data';\n",
              "          await google.colab.output.renderOutput(dataTable, element);\n",
              "          const docLink = document.createElement('div');\n",
              "          docLink.innerHTML = docLinkHtml;\n",
              "          element.appendChild(docLink);\n",
              "        }\n",
              "      </script>\n",
              "    </div>\n",
              "  </div>\n",
              "  "
            ]
          },
          "metadata": {},
          "execution_count": 14
        }
      ],
      "source": [
        "df.tail()"
      ]
    },
    {
      "cell_type": "code",
      "execution_count": null,
      "metadata": {
        "colab": {
          "base_uri": "https://localhost:8080/"
        },
        "id": "MU39UJwVoo_W",
        "outputId": "00ff3a73-70e1-41f6-9dcc-409458aba650"
      },
      "outputs": [
        {
          "output_type": "execute_result",
          "data": {
            "text/plain": [
              "(147, 276)"
            ]
          },
          "metadata": {},
          "execution_count": 15
        }
      ],
      "source": [
        "df.shape"
      ]
    },
    {
      "cell_type": "code",
      "source": [
        "df.info()"
      ],
      "metadata": {
        "colab": {
          "base_uri": "https://localhost:8080/"
        },
        "id": "OjRvyoSAgxPu",
        "outputId": "33645894-040e-4cf9-ab9b-a8f544170452"
      },
      "execution_count": null,
      "outputs": [
        {
          "output_type": "stream",
          "name": "stdout",
          "text": [
            "<class 'pandas.core.frame.DataFrame'>\n",
            "Int64Index: 147 entries, 24 to 170\n",
            "Columns: 276 entries, Date to Location_mumbai24\n",
            "dtypes: datetime64[ns](1), float64(271), int64(1), uint8(3)\n",
            "memory usage: 315.1 KB\n"
          ]
        }
      ]
    },
    {
      "cell_type": "code",
      "source": [
        "df.index=df['Date'] \n",
        "df.index = pd.to_datetime(df.index)"
      ],
      "metadata": {
        "id": "a5s03cr9sPoa"
      },
      "execution_count": null,
      "outputs": []
    },
    {
      "cell_type": "code",
      "source": [
        "df.drop(columns=[\"Date\"],inplace=True)"
      ],
      "metadata": {
        "id": "EhAPKWRcsWkJ"
      },
      "execution_count": null,
      "outputs": []
    },
    {
      "cell_type": "code",
      "source": [
        "df.info()"
      ],
      "metadata": {
        "colab": {
          "base_uri": "https://localhost:8080/"
        },
        "id": "ukQfzRl8hfRy",
        "outputId": "0f7eb23b-0162-458c-8c55-a60c2670e557"
      },
      "execution_count": null,
      "outputs": [
        {
          "output_type": "stream",
          "name": "stdout",
          "text": [
            "<class 'pandas.core.frame.DataFrame'>\n",
            "DatetimeIndex: 147 entries, 2007-12-01 to 2020-02-01\n",
            "Columns: 275 entries, Expenditure(In lakhs) to Location_mumbai24\n",
            "dtypes: float64(271), int64(1), uint8(3)\n",
            "memory usage: 314.0 KB\n"
          ]
        }
      ]
    },
    {
      "cell_type": "markdown",
      "source": [
        "### Separating X and Y variable\n"
      ],
      "metadata": {
        "id": "Q5eBi9c1cC9u"
      }
    },
    {
      "cell_type": "code",
      "source": [
        "x=df.drop(columns=[\"Expenditure(In lakhs)\"])\n",
        "y=df[\"Expenditure(In lakhs)\"]"
      ],
      "metadata": {
        "id": "ZbOpVEL9eEXp"
      },
      "execution_count": null,
      "outputs": []
    },
    {
      "cell_type": "markdown",
      "source": [
        "### train and test split\n"
      ],
      "metadata": {
        "id": "FpVlb9J9I1a9"
      }
    },
    {
      "cell_type": "code",
      "execution_count": null,
      "metadata": {
        "colab": {
          "base_uri": "https://localhost:8080/"
        },
        "id": "y1VTdsUXoo_d",
        "outputId": "9bec1ad1-279f-4774-d891-5a472116a775"
      },
      "outputs": [
        {
          "output_type": "stream",
          "name": "stdout",
          "text": [
            "44\n"
          ]
        }
      ],
      "source": [
        "test_split=round(len(df)*0.30)\n",
        "print(test_split)"
      ]
    },
    {
      "cell_type": "markdown",
      "source": [
        "## Creating trainx,trainy,testx,testy\n",
        "\n"
      ],
      "metadata": {
        "id": "z0t58TOepnkM"
      }
    },
    {
      "cell_type": "code",
      "execution_count": null,
      "metadata": {
        "colab": {
          "base_uri": "https://localhost:8080/"
        },
        "id": "MLdmi1cGoo_e",
        "outputId": "9a818503-6690-4687-a92c-350c20b7db3b"
      },
      "outputs": [
        {
          "output_type": "stream",
          "name": "stdout",
          "text": [
            "[[ 99.0528       4.05         1.05053997 ...   0.           0.\n",
            "    1.        ]\n",
            " [ 99.0528       4.05         1.06145291 ...   1.           0.\n",
            "    0.        ]\n",
            " [100.1784       4.05         1.30102258 ...   0.           1.\n",
            "    0.        ]\n",
            " ...\n",
            " [175.5936       7.0875       7.91126183 ...   1.           0.\n",
            "    0.        ]\n",
            " [175.5936       7.0875       7.95938033 ...   0.           1.\n",
            "    0.        ]\n",
            " [178.9704       7.0875       7.99150385 ...   0.           0.\n",
            "    1.        ]]\n"
          ]
        }
      ],
      "source": [
        "trainX,testX=x[:-test_split].values,x[-test_split:].values\n",
        "trainY,testY=y[:-test_split].values,y[-test_split:].values\n",
        "print(trainX)"
      ]
    },
    {
      "cell_type": "code",
      "source": [
        "print(testX)"
      ],
      "metadata": {
        "colab": {
          "base_uri": "https://localhost:8080/"
        },
        "id": "koYa4exokA0I",
        "outputId": "46cbc230-c94d-4a83-8d04-71942e9071d2"
      },
      "execution_count": null,
      "outputs": [
        {
          "output_type": "stream",
          "name": "stdout",
          "text": [
            "[[180.096        7.0875       8.09105836 ...   0.           0.\n",
            "    0.        ]\n",
            " [180.096        7.0875       8.10377956 ...   0.           0.\n",
            "    0.        ]\n",
            " [180.096        8.1          8.15305388 ...   1.           0.\n",
            "    0.        ]\n",
            " ...\n",
            " [209.3616       8.1         10.3337901  ...   0.           0.\n",
            "    0.        ]\n",
            " [209.3616       8.1         10.40374532 ...   1.           0.\n",
            "    0.        ]\n",
            " [210.4872       8.1         10.43872342 ...   0.           1.\n",
            "    0.        ]]\n"
          ]
        }
      ]
    },
    {
      "cell_type": "code",
      "execution_count": null,
      "metadata": {
        "colab": {
          "base_uri": "https://localhost:8080/"
        },
        "id": "T4e98lHsoo_f",
        "outputId": "b79dd9c1-4724-4113-d071-f28350312bed"
      },
      "outputs": [
        {
          "output_type": "stream",
          "name": "stdout",
          "text": [
            "(103, 274) (44, 274)\n"
          ]
        }
      ],
      "source": [
        "print(trainX.shape,testX.shape)"
      ]
    },
    {
      "cell_type": "code",
      "source": [
        "print(trainY)"
      ],
      "metadata": {
        "colab": {
          "base_uri": "https://localhost:8080/"
        },
        "id": "E-0PDM6-h2F3",
        "outputId": "92442fd8-b055-40c0-d8f6-6500b9361f6e"
      },
      "execution_count": null,
      "outputs": [
        {
          "output_type": "stream",
          "name": "stdout",
          "text": [
            "[ 59.198112  60.24419   59.556767  60.423519  63.113434  64.707458\n",
            "  65.155777  67.372475  67.078575  68.518173  68.204353  69.10099\n",
            "  68.244202  66.968987  71.392403  70.241714  72.194397  71.332626\n",
            "  74.969002  73.738609  71.930389  84.951584  87.870636  92.822083\n",
            "  91.018837  92.991447  99.073647  96.41362   99.018852  98.719971\n",
            "  93.868156  90.650223  85.145851  86.724937  85.016335  84.249214\n",
            "  92.26915   89.888077  88.418587  84.19442   84.827049  84.234268\n",
            "  81.927917  83.671379  87.083588  87.571762  89.843246  90.017593\n",
            "  90.635277  89.614105  89.639008  89.230545  87.671387  84.856934\n",
            "  84.807121  86.391182  85.763535  85.180725  88.662674  88.144615\n",
            "  88.049965  90.660187  92.807137  91.606636  93.375008  94.221832\n",
            "  95.696304  95.531921  96.124702  99.243011  98.331429 100.323959\n",
            "  96.363808  97.175758  94.96405   96.886841  97.444756  96.802162\n",
            "  97.325203  97.634041 100.109764 101.942894  95.890579  96.906769\n",
            "  93.992691  90.630295  89.300278  94.027565  94.655212  96.48336\n",
            "  96.827065 107.372543 102.61039  102.849495 102.246758  98.112251\n",
            " 100.005157  95.626572  92.981483  91.083595  96.438522  96.986473\n",
            "  98.545624]\n"
          ]
        }
      ]
    },
    {
      "cell_type": "markdown",
      "source": [
        "### For feature scaling\n"
      ],
      "metadata": {
        "id": "yLN2P6-eJUmI"
      }
    },
    {
      "cell_type": "code",
      "execution_count": null,
      "metadata": {
        "colab": {
          "base_uri": "https://localhost:8080/"
        },
        "id": "LkvtT66Voo_g",
        "outputId": "0d2961e9-ca39-4208-c143-20e2008d838f"
      },
      "outputs": [
        {
          "output_type": "stream",
          "name": "stdout",
          "text": [
            "(103, 274) (44, 274)\n"
          ]
        }
      ],
      "source": [
        "print(trainX.shape,testX.shape)"
      ]
    },
    {
      "cell_type": "code",
      "source": [
        "print(trainY.shape,testY.shape)"
      ],
      "metadata": {
        "colab": {
          "base_uri": "https://localhost:8080/"
        },
        "id": "qBu1sfIM9K3v",
        "outputId": "758c8607-bef3-4625-b3b3-d02052390ac7"
      },
      "execution_count": null,
      "outputs": [
        {
          "output_type": "stream",
          "name": "stdout",
          "text": [
            "(103,) (44,)\n"
          ]
        }
      ]
    },
    {
      "cell_type": "code",
      "execution_count": null,
      "metadata": {
        "id": "pje2c2oWoo_h"
      },
      "outputs": [],
      "source": [
        "# # feature scaling for x-variables\n",
        "scaler_x = StandardScaler()\n",
        "trainX = scaler_x.fit_transform(trainX)\n",
        "testX=scaler_x.transform(testX)"
      ]
    },
    {
      "cell_type": "code",
      "source": [
        "# #feature scaling for y-variables\n",
        "scaler_y = StandardScaler()\n",
        "trainY = scaler_y.fit_transform(trainY.reshape((-1,1)))\n",
        "testY=scaler_y.transform(testY.reshape((-1,1)))"
      ],
      "metadata": {
        "id": "I-emczdYqhU5"
      },
      "execution_count": null,
      "outputs": []
    },
    {
      "cell_type": "code",
      "execution_count": null,
      "metadata": {
        "colab": {
          "base_uri": "https://localhost:8080/"
        },
        "id": "QqxokkcWoo_0",
        "outputId": "1ad2be42-46cd-4718-ef03-908d6aa23aed"
      },
      "outputs": [
        {
          "output_type": "stream",
          "name": "stdout",
          "text": [
            "(103, 274)\n"
          ]
        }
      ],
      "source": [
        "print(trainX.shape)"
      ]
    },
    {
      "cell_type": "code",
      "execution_count": null,
      "metadata": {
        "colab": {
          "base_uri": "https://localhost:8080/"
        },
        "id": "4IPaYzcwoo_2",
        "outputId": "950bd6bc-632c-4c55-d949-95177c35c720"
      },
      "outputs": [
        {
          "output_type": "stream",
          "name": "stdout",
          "text": [
            "trainX Shape--  (103, 274)\n",
            "testX Shape--  (44, 274)\n"
          ]
        }
      ],
      "source": [
        "print(\"trainX Shape-- \",trainX.shape)\n",
        "print(\"testX Shape-- \",testX.shape)"
      ]
    },
    {
      "cell_type": "code",
      "execution_count": null,
      "metadata": {
        "colab": {
          "base_uri": "https://localhost:8080/"
        },
        "id": "CHMIu20Foo_3",
        "outputId": "32ea29f9-b82b-445b-ef52-3b43c8f5cbd5"
      },
      "outputs": [
        {
          "output_type": "stream",
          "name": "stdout",
          "text": [
            "trainX[0]-- \n",
            " [-1.77518386 -1.51124608 -1.84199195 -1.99191286 -2.82124395 -1.83983151\n",
            " -0.76646421 -0.88083033  1.3938641  -0.53619026 -2.41764263 -2.23680376\n",
            " -2.27101646 -2.28643075 -2.28220467 -2.26702314 -2.30083324 -2.25120352\n",
            " -2.3480167  -2.24256099 -2.23209508 -2.16388636 -2.09853787 -2.08975477\n",
            " -1.91987437 -1.87889818 -1.73868794 -1.61124807 -1.6660906  -1.62688628\n",
            " -1.40689793 -1.39431963 -1.64953385 -1.64133042 -1.83938653 -1.89797057\n",
            " -1.90616022 -1.91447667 -1.87535372 -1.88408446 -1.84240651 -1.85039632\n",
            " -1.81131221 -1.91422905 -1.96531093 -1.96659515 -1.92222425 -1.9253395\n",
            " -1.9286327  -1.9310984  -1.97767158 -1.93250047 -1.93366547 -2.02330431\n",
            " -1.97440748 -2.0588806  -2.00903713 -2.00424283 -1.47995456 -1.44990028\n",
            " -1.42100289 -1.39319038 -1.36639825 -1.34056876 -1.31565026 -1.2915967\n",
            " -1.26836724 -1.24592587 -1.22424117 -1.20328618 -1.18303824 -1.16347905\n",
            " -1.14459468 -1.12637581 -1.10881796 -1.09192197 -1.07569452 -1.06014903\n",
            " -1.04530666 -1.03119773 -1.0178637  -1.00535962 -1.80966642 -1.79814022\n",
            " -1.76841101 -1.73366833 -1.75026837 -1.75774748 -1.73354653 -1.71238637\n",
            " -1.67976282 -1.65764324 -1.64627353 -1.628007   -1.65096968 -1.63349696\n",
            " -1.62589651 -1.61047951 -1.6599165  -1.64099728 -1.64840502 -1.62946857\n",
            " -1.60477644 -1.58076919 -1.56575193 -1.57440968 -1.95704157 -1.92504277\n",
            " -1.89583374 -1.86937034 -1.82272363 -1.7786075  -1.73679719 -1.69709663\n",
            " -1.65933415 -1.6233589  -1.58903799 -1.55625413 -1.52490364 -1.49489489\n",
            " -1.46614692 -1.43858834 -1.41215652 -1.38679679 -1.36246193 -1.33911177\n",
            " -1.31671291 -1.29523858 -1.27466871 -1.25499004 -2.78720317 -2.51181953\n",
            " -2.59060276 -2.64043331 -2.65760871 -2.65501524 -2.73658644 -2.66859922\n",
            " -2.86899778 -2.68318885 -1.1745794  -1.29447184 -1.51914036 -1.56900732\n",
            " -1.46681098 -1.53507385 -1.56994334 -1.4185528  -1.5243845  -1.6144814\n",
            " -1.68107463 -1.73345303 -1.8546635  -1.85048552 -1.79944115 -1.10117187\n",
            " -1.07983923 -1.05898188 -1.03857257 -1.01858581 -0.99899762 -0.97978545\n",
            " -0.960928   -0.94240515 -0.92419782 -1.56345986 -1.53742615 -2.15766451\n",
            " -2.10801321 -2.06198579 -2.01930304 -1.97973538 -1.94309678 -1.90924039\n",
            " -1.87805558 -1.84946637 -1.82343112 -1.78374232 -0.85793687 -1.08350262\n",
            " -1.04836687 -1.03111622 -0.94596065 -0.95187874 -0.81655678 -0.85753075\n",
            " -0.64431324 -0.9335664  -1.02447373 -1.10474632 -1.08706209 -1.09207637\n",
            " -1.31645514 -1.37982362 -1.69012596 -1.79989862 -1.73892659 -2.00329162\n",
            " -2.22937347 -2.42292051 -1.95198103 -1.9619786   1.13529242  1.11316236\n",
            " -0.89834155  1.09155365 -0.89834155  1.11316236 -0.89834155 -0.88083033\n",
            " -0.88083033  1.13529242  1.11316236 -0.89834155  1.09155365 -0.89834155\n",
            "  1.11316236 -0.89834155 -0.88083033 -0.88083033  1.13529242  1.11316236\n",
            " -0.89834155 -0.89834155  1.11316236 -0.88083033 -0.71743005 -0.71743005\n",
            " -0.70196412 -0.68660656  1.42457424 -0.70196412 -0.70196412  1.3938641\n",
            "  1.3938641  -0.71743005 -0.71743005 -0.70196412 -0.68660656  1.42457424\n",
            " -0.70196412 -0.70196412  1.3938641   1.3938641  -0.71743005 -0.71743005\n",
            " -0.70196412  1.42457424 -0.70196412 -0.70196412 -0.53619026 -0.52115731\n",
            "  1.86500962 -0.53619026 -0.53619026 -0.53619026  1.86500962 -0.53619026\n",
            " -0.53619026 -0.53619026 -0.52115731  1.86500962 -0.53619026 -0.53619026\n",
            " -0.53619026  1.86500962 -0.53619026 -0.53619026 -0.53619026 -0.52115731\n",
            "  1.86500962 -0.53619026 -0.53619026  1.81429509]\n",
            "trainY[0]--  [-2.45080091]\n"
          ]
        }
      ],
      "source": [
        "print(\"trainX[0]-- \\n\",trainX[0])\n",
        "print(\"trainY[0]-- \",trainY[0])"
      ]
    },
    {
      "cell_type": "code",
      "execution_count": null,
      "metadata": {
        "colab": {
          "base_uri": "https://localhost:8080/"
        },
        "id": "nKPr5QL3oo_3",
        "outputId": "b4d3697c-efa3-49ef-fcec-6313b9a421cd"
      },
      "outputs": [
        {
          "output_type": "stream",
          "name": "stdout",
          "text": [
            "testX[0]-- \n",
            " [ 1.86048681  1.26836724  1.69675833  2.0708005   0.86334094  2.2354942\n",
            "  2.07202954 -0.88083033  1.3938641  -0.53619026  0.95362273  0.83449399\n",
            "  0.80135487  0.387042    0.55026865  0.76491786  1.1028808   0.97564872\n",
            "  1.28247289  1.33779784  1.33438737  1.67942706  0.98223518  0.97271677\n",
            "  0.86829531  0.8427796   0.55900744  0.65700612  0.88037581  1.0764769\n",
            "  1.03382746  1.42623571  1.33819265  1.2097373   1.84477632  1.72223255\n",
            "  1.75193541  1.78254415  1.81531141  1.74554174  1.62322118  1.65075459\n",
            "  1.68002311  1.65725686  1.6833377   1.66003352  1.68720266  1.66549769\n",
            "  1.69270018  1.67153227  1.64889797  1.67547062  1.6545191   1.67912241\n",
            "  1.61031335  1.63276798  1.65706015  1.63559128  1.2915967   1.31565026\n",
            "  1.34056876  1.36639825  1.39319038  1.42100289  1.44990028  1.47995456\n",
            "  1.51124608  1.54386466  1.57791084  1.61349737  1.65075103  1.68981481\n",
            "  1.7308505   1.7740419   1.81959871  1.86776126  1.91880645  1.97305515\n",
            "  2.0308815   2.09272481  2.15910482  2.23064166  1.67588278  1.68963896\n",
            "  1.6962514   1.6860093   1.70244049  1.70235511  1.70231219  1.72737334\n",
            "  1.68382864  1.70346372  1.73588182  1.74140117  1.76578065  1.78757937\n",
            "  1.81276581  1.77197333  1.75194493  1.76763431  1.80005115  1.83328228\n",
            "  1.87268888  1.87954849  1.89532473  1.85856615  2.11518635  2.1631924\n",
            "  2.21513206  2.27138546  1.25499004  1.27466871  1.29523858  1.31671291\n",
            "  1.33911177  1.36246193  1.38679679  1.41215652  1.43858834  1.46614692\n",
            "  1.49489489  1.52490364  1.55625413  1.58903799  1.6233589   1.65933415\n",
            "  1.69709663  1.73679719  1.7786075   1.82272363  0.84853096  0.76737579\n",
            "  0.74528093  0.4425886   0.56768274  0.72223354  0.94446379  0.8623864\n",
            "  1.04702589  1.07569758  1.08684977  1.29371514  0.88561758  0.8869827\n",
            "  0.8218201   0.8094146   0.60116304  0.68058166  0.85079317  0.99271364\n",
            "  0.9670007   1.22506961  1.17330534  1.09385233  1.58272013  0.92419782\n",
            "  0.94240515  0.960928    0.97978545  0.99899762  1.01858581  1.03857257\n",
            "  1.05898188  1.07983923  1.10117187  1.12047956  1.8318269   1.85871099\n",
            "  1.88815907  1.92022427  1.95499403  1.9925908   2.03317412  2.07694394\n",
            "  2.12414562  2.17507665  2.23009561  1.58119283  2.0806422   2.00994107\n",
            "  2.11156989  2.59796102  2.55705789  2.2607231   1.70396089  1.90355271\n",
            "  1.61490716  1.51022185  1.56444675  1.10927603  2.01918558  2.01120631\n",
            "  2.2300432   2.25555436  2.6554421   2.62466454  2.28780622  2.06730057\n",
            "  1.986147    1.4570127   1.6423517   1.78933343  1.13529242 -0.89834155\n",
            " -0.89834155 -0.91612538  1.11316236  1.11316236 -0.89834155  1.13529242\n",
            " -0.88083033  1.13529242 -0.89834155 -0.89834155 -0.91612538  1.11316236\n",
            "  1.11316236 -0.89834155  1.13529242 -0.88083033  1.13529242 -0.89834155\n",
            " -0.89834155 -0.89834155  1.11316236  1.13529242 -0.71743005 -0.71743005\n",
            "  1.42457424  1.45643816 -0.70196412 -0.70196412 -0.70196412 -0.71743005\n",
            "  1.3938641  -0.71743005 -0.71743005  1.42457424  1.45643816 -0.70196412\n",
            " -0.70196412 -0.70196412 -0.71743005  1.3938641  -0.71743005 -0.71743005\n",
            "  1.42457424  1.42457424 -0.70196412 -0.70196412 -0.53619026  1.91880645\n",
            " -0.53619026 -0.53619026 -0.53619026 -0.53619026  1.86500962 -0.53619026\n",
            " -0.53619026 -0.53619026  1.91880645 -0.53619026 -0.53619026 -0.53619026\n",
            " -0.53619026  1.86500962 -0.53619026 -0.53619026 -0.53619026  1.91880645\n",
            " -0.53619026 -0.53619026 -0.53619026 -0.55117825]\n",
            "testY[0]--  [0.97354072]\n"
          ]
        }
      ],
      "source": [
        "print(\"testX[0]-- \\n\",testX[0])\n",
        "print(\"testY[0]-- \",testY[0])"
      ]
    },
    {
      "cell_type": "code",
      "execution_count": null,
      "metadata": {
        "colab": {
          "base_uri": "https://localhost:8080/"
        },
        "id": "O2RGchknoo_4",
        "outputId": "29413847-84e4-4695-b9e1-613d9aa6dc3c"
      },
      "outputs": [
        {
          "output_type": "stream",
          "name": "stdout",
          "text": [
            "testX_shape:\n",
            " (44, 274)\n",
            "testY_shape:--  (44, 1)\n"
          ]
        }
      ],
      "source": [
        "print(\"testX_shape:\\n\",testX.shape)\n",
        "print(\"testY_shape:-- \",testY.shape)"
      ]
    },
    {
      "cell_type": "markdown",
      "source": [
        "### Model building\n"
      ],
      "metadata": {
        "id": "c3ChLbcMJpfg"
      }
    },
    {
      "cell_type": "code",
      "execution_count": null,
      "metadata": {
        "scrolled": false,
        "colab": {
          "base_uri": "https://localhost:8080/"
        },
        "id": "W5cWDYrPopAC",
        "outputId": "66f08210-5c24-46fb-8bc6-609dd57d5e7d"
      },
      "outputs": [
        {
          "output_type": "stream",
          "name": "stdout",
          "text": [
            "[08:57:08] WARNING: /workspace/src/objective/regression_obj.cu:152: reg:linear is now deprecated in favor of reg:squarederror.\n"
          ]
        },
        {
          "output_type": "execute_result",
          "data": {
            "text/plain": [
              "XGBRegressor(colsample_bytree=0.8, gamma=0.2, learning_rate=0.9,\n",
              "             n_estimators=1000, nthread=4, random_state=42, seed=27,\n",
              "             subsample=0.8)"
            ]
          },
          "metadata": {},
          "execution_count": 553
        }
      ],
      "source": [
        "model = xgb.XGBRegressor(learning_rate=0.9,random_state=42,n_estimators=1000,\n",
        " max_depth=3,\n",
        " min_child_weight=1,\n",
        " gamma=0.2,\n",
        " subsample=0.8,\n",
        " colsample_bytree=0.8,\n",
        " nthread=4,\n",
        " seed=27)\n",
        "model.fit(trainX,trainY)"
      ]
    },
    {
      "cell_type": "code",
      "source": [
        "df_importances = pd.DataFrame({\n",
        "        'feature': x.columns[:10],\n",
        "        'importance': model.feature_importances_[:10]\n",
        "    }).sort_values(by='importance', ascending=False)\n",
        "# Creating dataframe for importance features"
      ],
      "metadata": {
        "id": "4H6brcwQ2mmq"
      },
      "execution_count": null,
      "outputs": []
    },
    {
      "cell_type": "code",
      "execution_count": null,
      "metadata": {
        "colab": {
          "base_uri": "https://localhost:8080/",
          "height": 406
        },
        "id": "QHgaxcT7opAD",
        "outputId": "3d0f5a19-7df6-481d-b32a-e2ffb0e7db87"
      },
      "outputs": [
        {
          "output_type": "display_data",
          "data": {
            "text/plain": [
              "<Figure size 864x432 with 1 Axes>"
            ],
            "image/png": "[encoded data removed]"
          },
          "metadata": {
            "needs_background": "light"
          }
        }
      ],
      "source": [
        "plt.figure(figsize=(12,6))\n",
        "plt.title('Variable Importances', fontsize=16)\n",
        "sns.barplot(x=df_importances.importance, y=df_importances.feature, orient='h')\n",
        "plt.show()"
      ]
    },
    {
      "cell_type": "markdown",
      "source": [
        "### predictions on testX dataset\n",
        "\n"
      ],
      "metadata": {
        "id": "LCu-1j5gc_rM"
      }
    },
    {
      "cell_type": "code",
      "execution_count": null,
      "metadata": {
        "id": "AF6CZjt-opAD",
        "colab": {
          "base_uri": "https://localhost:8080/"
        },
        "outputId": "d6d5e975-ddeb-4fbe-dd38-816b40b93d4c"
      },
      "outputs": [
        {
          "output_type": "execute_result",
          "data": {
            "text/plain": [
              "array([ 1.0944216 ,  0.71644723,  0.71644723,  0.17692462,  0.56772995,\n",
              "        0.56772995,  0.56772995,  0.56772995,  0.56772995,  0.56772995,\n",
              "        0.56772995,  0.56772995,  0.17692462,  0.17692462,  0.17692462,\n",
              "        0.17692462, -0.13298434, -0.13298434, -0.13298434,  0.17692462,\n",
              "        0.17692462,  0.17692462,  0.17692462,  0.17692462,  0.17692462,\n",
              "        0.17692462,  0.17692462,  0.17692462,  0.17692462,  0.17692462,\n",
              "        0.56772995,  0.56772995,  0.56772995,  0.71644723,  0.71644723,\n",
              "        0.71644723,  0.71644723,  0.71644723,  0.56772995,  0.17692462,\n",
              "        0.56772995,  1.0944216 ,  1.0944216 ,  1.3174913 ], dtype=float32)"
            ]
          },
          "metadata": {},
          "execution_count": 557
        }
      ],
      "source": [
        "prediction=model.predict(testX)\n",
        "prediction"
      ]
    },
    {
      "cell_type": "code",
      "source": [
        "# inverse transforming to original scale\n",
        "testY=scaler_y.inverse_transform(testY.reshape((-1,1)))\n",
        "prediction=scaler_y.inverse_transform(prediction.reshape((-1,1)))"
      ],
      "metadata": {
        "id": "gtaX9u-BrvgG"
      },
      "execution_count": null,
      "outputs": []
    },
    {
      "cell_type": "code",
      "execution_count": null,
      "metadata": {
        "colab": {
          "base_uri": "https://localhost:8080/"
        },
        "id": "ZSsoDVGxopAE",
        "outputId": "2632c7e9-d248-4baf-df76-af95b661a70a"
      },
      "outputs": [
        {
          "output_type": "stream",
          "name": "stdout",
          "text": [
            "prediction\n",
            " [[100.28529]\n",
            " [ 95.90478]\n",
            " [ 95.90478]\n",
            " [ 89.65201]\n",
            " [ 94.18123]\n",
            " [ 94.18123]\n",
            " [ 94.18123]\n",
            " [ 94.18123]\n",
            " [ 94.18123]\n",
            " [ 94.18123]\n",
            " [ 94.18123]\n",
            " [ 94.18123]\n",
            " [ 89.65201]\n",
            " [ 89.65201]\n",
            " [ 89.65201]\n",
            " [ 89.65201]\n",
            " [ 86.06033]\n",
            " [ 86.06033]\n",
            " [ 86.06033]\n",
            " [ 89.65201]\n",
            " [ 89.65201]\n",
            " [ 89.65201]\n",
            " [ 89.65201]\n",
            " [ 89.65201]\n",
            " [ 89.65201]\n",
            " [ 89.65201]\n",
            " [ 89.65201]\n",
            " [ 89.65201]\n",
            " [ 89.65201]\n",
            " [ 89.65201]\n",
            " [ 94.18123]\n",
            " [ 94.18123]\n",
            " [ 94.18123]\n",
            " [ 95.90478]\n",
            " [ 95.90478]\n",
            " [ 95.90478]\n",
            " [ 95.90478]\n",
            " [ 95.90478]\n",
            " [ 94.18123]\n",
            " [ 89.65201]\n",
            " [ 94.18123]\n",
            " [100.28529]\n",
            " [100.28529]\n",
            " [102.87055]]\n",
            "\n",
            "Prediction Shape- (44, 1)\n"
          ]
        }
      ],
      "source": [
        "print(\"prediction\\n\", prediction)\n",
        "print(\"\\nPrediction Shape-\",prediction.shape)"
      ]
    },
    {
      "cell_type": "code",
      "execution_count": null,
      "metadata": {
        "scrolled": true,
        "colab": {
          "base_uri": "https://localhost:8080/"
        },
        "id": "m_EmtKlgopAG",
        "outputId": "edd4418e-4105-4c47-9ad3-e764e94e5e3b"
      },
      "outputs": [
        {
          "output_type": "stream",
          "name": "stdout",
          "text": [
            "Pred Values--  [[100.28529]\n",
            " [ 95.90478]\n",
            " [ 95.90478]\n",
            " [ 89.65201]\n",
            " [ 94.18123]\n",
            " [ 94.18123]\n",
            " [ 94.18123]\n",
            " [ 94.18123]\n",
            " [ 94.18123]\n",
            " [ 94.18123]\n",
            " [ 94.18123]\n",
            " [ 94.18123]\n",
            " [ 89.65201]\n",
            " [ 89.65201]\n",
            " [ 89.65201]\n",
            " [ 89.65201]\n",
            " [ 86.06033]\n",
            " [ 86.06033]\n",
            " [ 86.06033]\n",
            " [ 89.65201]\n",
            " [ 89.65201]\n",
            " [ 89.65201]\n",
            " [ 89.65201]\n",
            " [ 89.65201]\n",
            " [ 89.65201]\n",
            " [ 89.65201]\n",
            " [ 89.65201]\n",
            " [ 89.65201]\n",
            " [ 89.65201]\n",
            " [ 89.65201]\n",
            " [ 94.18123]\n",
            " [ 94.18123]\n",
            " [ 94.18123]\n",
            " [ 95.90478]\n",
            " [ 95.90478]\n",
            " [ 95.90478]\n",
            " [ 95.90478]\n",
            " [ 95.90478]\n",
            " [ 94.18123]\n",
            " [ 89.65201]\n",
            " [ 94.18123]\n",
            " [100.28529]\n",
            " [100.28529]\n",
            " [102.87055]]\n",
            "Original Values--  [[ 98.884354]\n",
            " [ 97.88311 ]\n",
            " [ 96.289085]\n",
            " [ 91.342628]\n",
            " [ 94.221832]\n",
            " [ 92.652718]\n",
            " [ 94.291573]\n",
            " [ 92.627808]\n",
            " [ 92.717468]\n",
            " [ 93.001411]\n",
            " [ 93.539391]\n",
            " [ 94.19693 ]\n",
            " [ 91.761055]\n",
            " [ 90.16703 ]\n",
            " [ 89.883095]\n",
            " [ 88.832039]\n",
            " [ 87.322693]\n",
            " [ 88.020081]\n",
            " [ 88.234276]\n",
            " [ 89.071136]\n",
            " [ 89.300278]\n",
            " [ 90.251717]\n",
            " [ 88.65271 ]\n",
            " [ 90.012611]\n",
            " [ 90.500778]\n",
            " [ 90.186958]\n",
            " [ 89.982719]\n",
            " [ 88.642746]\n",
            " [ 90.540634]\n",
            " [ 89.639008]\n",
            " [ 93.514488]\n",
            " [ 94.266663]\n",
            " [ 94.037521]\n",
            " [ 96.48336 ]\n",
            " [ 96.184479]\n",
            " [ 96.139648]\n",
            " [ 96.373764]\n",
            " [ 96.274139]\n",
            " [ 94.695061]\n",
            " [ 91.945366]\n",
            " [ 94.311501]\n",
            " [ 98.919228]\n",
            " [ 99.835793]\n",
            " [111.033821]]\n"
          ]
        }
      ],
      "source": [
        "print(\"Pred Values-- \" ,prediction)\n",
        "print(\"Original Values-- \",testY)\n"
      ]
    },
    {
      "cell_type": "markdown",
      "source": [
        "### Plot comparing testY and predictions\n"
      ],
      "metadata": {
        "id": "LlbiXxabf9_g"
      }
    },
    {
      "cell_type": "code",
      "execution_count": null,
      "metadata": {
        "scrolled": true,
        "colab": {
          "base_uri": "https://localhost:8080/",
          "height": 404
        },
        "id": "0aCFbE7IopAH",
        "outputId": "032a8f3c-cc0e-40f4-be49-d910fd016e96"
      },
      "outputs": [
        {
          "output_type": "display_data",
          "data": {
            "text/plain": [
              "<Figure size 864x432 with 1 Axes>"
            ],
            "image/png": "[encoded data removed]"
          },
          "metadata": {
            "needs_background": "light"
          }
        }
      ],
      "source": [
        "#plt.xlim([100,500])\n",
        "plt.figure(figsize=(12, 6))\n",
        "plt.plot(prediction, color = 'red', label = 'Predicted Expenditure',marker=\"s\")\n",
        "plt.plot(testY, color = 'blue', label = 'Real Expenditure',marker=\"s\")\n",
        "plt.title(' Expenditure forecasting')\n",
        "plt.xlabel('Next Time step')\n",
        "plt.ylabel('Expenditure (in lakhs)')\n",
        "plt.legend()\n",
        "plt.show()"
      ]
    },
    {
      "cell_type": "markdown",
      "source": [
        "## Model performance"
      ],
      "metadata": {
        "id": "ZqEQNpl8qXg4"
      }
    },
    {
      "cell_type": "code",
      "execution_count": null,
      "metadata": {
        "scrolled": true,
        "colab": {
          "base_uri": "https://localhost:8080/"
        },
        "id": "-0dTnd-RopAW",
        "outputId": "4d04bae2-3b0d-4d68-8701-f9eb9b6ad2be"
      },
      "outputs": [
        {
          "output_type": "execute_result",
          "data": {
            "text/plain": [
              "2.5820474814587224"
            ]
          },
          "metadata": {},
          "execution_count": 562
        }
      ],
      "source": [
        "from sklearn.metrics import mean_squared_error\n",
        "#from statsmodels.tools.eval_measures import rmse\n",
        "  \n",
        "# Calculate root mean squared error\n",
        "mean_squared_error(prediction, testY)"
      ]
    }
  ]
}